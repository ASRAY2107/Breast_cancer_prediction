{
  "nbformat": 4,
  "nbformat_minor": 0,
  "metadata": {
    "colab": {
      "provenance": []
    },
    "kernelspec": {
      "name": "python3",
      "display_name": "Python 3"
    },
    "language_info": {
      "name": "python"
    }
  },
  "cells": [
    {
      "cell_type": "markdown",
      "source": [
        "# We will be training K nearest neighbour  algorithm to predict wheather a cell is benign or malignant  \n",
        "Benign  = Not Cancer cell ||\n",
        "Malignant  = Cancer cell"
      ],
      "metadata": {
        "id": "dNuW1TuSH29L"
      }
    },
    {
      "cell_type": "code",
      "execution_count": null,
      "metadata": {
        "id": "-jcB5_eED2yr"
      },
      "outputs": [],
      "source": [
        "import numpy as np\n",
        "import matplotlib.pyplot as plt\n",
        "import seaborn as sns\n",
        "import pandas as pd"
      ]
    },
    {
      "cell_type": "code",
      "source": [
        "%matplotlib inline"
      ],
      "metadata": {
        "id": "WwbaH_ADFksu"
      },
      "execution_count": null,
      "outputs": []
    },
    {
      "cell_type": "code",
      "source": [
        "!pip install --upgrade pyforest\n"
      ],
      "metadata": {
        "colab": {
          "base_uri": "https://localhost:8080/"
        },
        "id": "QK5bG6RQFoZa",
        "outputId": "2f3e052c-11b4-48e9-d67a-00374f757bb7"
      },
      "execution_count": null,
      "outputs": [
        {
          "output_type": "stream",
          "name": "stdout",
          "text": [
            "Collecting pyforest\n",
            "  Downloading pyforest-1.1.0.tar.gz (15 kB)\n",
            "  Preparing metadata (setup.py) ... \u001b[?25l\u001b[?25hdone\n",
            "Building wheels for collected packages: pyforest\n",
            "  Building wheel for pyforest (setup.py) ... \u001b[?25l\u001b[?25hdone\n",
            "  Created wheel for pyforest: filename=pyforest-1.1.0-py2.py3-none-any.whl size=14606 sha256=e467824cd829093b09291b4a9cd087c96aa74bc35db06d6809e0122a99816a3f\n",
            "  Stored in directory: /root/.cache/pip/wheels/9e/7d/2c/5d2f5e62de376c386fd3bf5a8e5bd119ace6a9f48f49df6017\n",
            "Successfully built pyforest\n",
            "Installing collected packages: pyforest\n",
            "Successfully installed pyforest-1.1.0\n"
          ]
        }
      ]
    },
    {
      "cell_type": "code",
      "source": [
        "from pyforest import *\n",
        "lazy_imports()"
      ],
      "metadata": {
        "colab": {
          "base_uri": "https://localhost:8080/"
        },
        "id": "FVKarKbnF70b",
        "outputId": "04dbe18a-f296-4031-8c60-93a61d2f3a42"
      },
      "execution_count": null,
      "outputs": [
        {
          "output_type": "execute_result",
          "data": {
            "text/plain": [
              "['from sklearn.model_selection import train_test_split',\n",
              " 'from xlrd import open_workbook',\n",
              " 'from scipy import signal as sg',\n",
              " 'from sklearn.preprocessing import OneHotEncoder',\n",
              " 'from sklearn import svm',\n",
              " 'from sklearn.preprocessing import RobustScaler',\n",
              " 'import seaborn as sns',\n",
              " 'import skimage',\n",
              " 'from sklearn.model_selection import StratifiedKFold',\n",
              " 'from sklearn.linear_model import LassoCV',\n",
              " 'from sklearn.linear_model import ElasticNetCV',\n",
              " 'import altair as alt',\n",
              " 'from sklearn.ensemble import RandomForestRegressor',\n",
              " 'import plotly.graph_objs as go',\n",
              " 'from sklearn.preprocessing import PolynomialFeatures',\n",
              " 'from sklearn import metrics',\n",
              " 'from sklearn.model_selection import GridSearchCV',\n",
              " 'import datetime as dt',\n",
              " 'from fbprophet import Prophet',\n",
              " 'import cv2',\n",
              " 'from scipy import stats',\n",
              " 'import bokeh',\n",
              " 'import re',\n",
              " 'from sklearn.linear_model import LinearRegression',\n",
              " 'from sklearn.linear_model import RidgeCV',\n",
              " 'from sklearn.preprocessing import LabelEncoder',\n",
              " 'import dash',\n",
              " 'from sklearn.linear_model import ElasticNet',\n",
              " 'from sklearn.feature_extraction.text import TfidfVectorizer',\n",
              " 'from sklearn.preprocessing import StandardScaler',\n",
              " 'import statsmodels.api as sm',\n",
              " 'import pydot',\n",
              " 'import matplotlib as mpl',\n",
              " 'from pyspark import SparkContext',\n",
              " 'import tensorflow as tf',\n",
              " 'from openpyxl import load_workbook',\n",
              " 'import spacy',\n",
              " 'from sklearn.ensemble import GradientBoostingClassifier',\n",
              " 'from sklearn.linear_model import Lasso',\n",
              " 'import gensim',\n",
              " 'from sklearn.model_selection import KFold',\n",
              " 'import glob',\n",
              " 'import awswrangler as wr',\n",
              " 'import tqdm',\n",
              " 'import textblob',\n",
              " 'import pandas as pd',\n",
              " 'from sklearn.manifold import TSNE',\n",
              " 'import lightgbm as lgb',\n",
              " 'import plotly as py',\n",
              " 'import pickle',\n",
              " 'import plotly.express as px',\n",
              " 'from sklearn.feature_extraction.text import CountVectorizer',\n",
              " 'from sklearn.preprocessing import MinMaxScaler',\n",
              " 'import keras',\n",
              " 'from PIL import Image',\n",
              " 'import sklearn',\n",
              " 'from sklearn.linear_model import LogisticRegression',\n",
              " 'from dask import dataframe as dd',\n",
              " 'import fbprophet',\n",
              " 'from pathlib import Path',\n",
              " 'import xgboost as xgb',\n",
              " 'from sklearn.model_selection import cross_val_score',\n",
              " 'import sys',\n",
              " 'import matplotlib.pyplot as plt',\n",
              " 'import os',\n",
              " 'from sklearn.impute import SimpleImputer',\n",
              " 'import statistics',\n",
              " 'from sklearn.model_selection import RandomizedSearchCV',\n",
              " 'import nltk',\n",
              " 'import torch',\n",
              " 'from sklearn.linear_model import Ridge',\n",
              " 'import fastai',\n",
              " 'import imutils',\n",
              " 'from statsmodels.tsa.arima_model import ARIMA',\n",
              " 'from sklearn.ensemble import GradientBoostingRegressor',\n",
              " 'from sklearn.decomposition import PCA',\n",
              " 'import numpy as np',\n",
              " 'from sklearn.ensemble import RandomForestClassifier',\n",
              " 'from sklearn.cluster import KMeans']"
            ]
          },
          "metadata": {},
          "execution_count": 4
        }
      ]
    },
    {
      "cell_type": "code",
      "source": [
        "df = pd.read_csv(\"/content/wisc_bc_data.csv\")\n"
      ],
      "metadata": {
        "colab": {
          "base_uri": "https://localhost:8080/",
          "height": 17
        },
        "id": "BDJK3mbwGDh5",
        "outputId": "ae1f3745-03de-4883-ae9a-50a1c8743b21"
      },
      "execution_count": null,
      "outputs": [
        {
          "output_type": "display_data",
          "data": {
            "text/plain": [
              "<IPython.core.display.Javascript object>"
            ],
            "application/javascript": [
              "\n",
              "        if (window._pyforest_update_imports_cell) { window._pyforest_update_imports_cell('import pandas as pd\\nimport plotly as py\\nimport pickle\\nimport pydot\\nimport imutils\\nimport plotly.express as px'); }\n",
              "    "
            ]
          },
          "metadata": {}
        }
      ]
    },
    {
      "cell_type": "code",
      "source": [
        "df.head()"
      ],
      "metadata": {
        "colab": {
          "base_uri": "https://localhost:8080/",
          "height": 299
        },
        "id": "N4VYS4jrGbAi",
        "outputId": "f7ab0790-e270-457a-becd-ee8b644da23b"
      },
      "execution_count": null,
      "outputs": [
        {
          "output_type": "execute_result",
          "data": {
            "text/plain": [
              "         id diagnosis  radius_mean  texture_mean  perimeter_mean  area_mean  \\\n",
              "0  87139402         B        12.32         12.39           78.85      464.1   \n",
              "1   8910251         B        10.60         18.95           69.28      346.4   \n",
              "2    905520         B        11.04         16.83           70.92      373.2   \n",
              "3    868871         B        11.28         13.39           73.00      384.8   \n",
              "4   9012568         B        15.19         13.21           97.65      711.8   \n",
              "\n",
              "   smoothness_mean  compactness_mean  concavity_mean  points_mean  ...  \\\n",
              "0          0.10280           0.06981         0.03987      0.03700  ...   \n",
              "1          0.09688           0.11470         0.06387      0.02642  ...   \n",
              "2          0.10770           0.07804         0.03046      0.02480  ...   \n",
              "3          0.11640           0.11360         0.04635      0.04796  ...   \n",
              "4          0.07963           0.06934         0.03393      0.02657  ...   \n",
              "\n",
              "   radius_worst  texture_worst  perimeter_worst  area_worst  smoothness_worst  \\\n",
              "0         13.50          15.64            86.97       549.1            0.1385   \n",
              "1         11.88          22.94            78.28       424.8            0.1213   \n",
              "2         12.41          26.44            79.93       471.4            0.1369   \n",
              "3         11.92          15.77            76.53       434.0            0.1367   \n",
              "4         16.20          15.73           104.50       819.1            0.1126   \n",
              "\n",
              "   compactness_worst  concavity_worst  points_worst  symmetry_worst  \\\n",
              "0             0.1266          0.12420       0.09391          0.2827   \n",
              "1             0.2515          0.19160       0.07926          0.2940   \n",
              "2             0.1482          0.10670       0.07431          0.2998   \n",
              "3             0.1822          0.08669       0.08611          0.2102   \n",
              "4             0.1737          0.13620       0.08178          0.2487   \n",
              "\n",
              "   dimension_worst  \n",
              "0          0.06771  \n",
              "1          0.07587  \n",
              "2          0.07881  \n",
              "3          0.06784  \n",
              "4          0.06766  \n",
              "\n",
              "[5 rows x 32 columns]"
            ],
            "text/html": [
              "\n",
              "\n",
              "  <div id=\"df-317210f7-5d37-4d23-8cf3-3f899472749d\">\n",
              "    <div class=\"colab-df-container\">\n",
              "      <div>\n",
              "<style scoped>\n",
              "    .dataframe tbody tr th:only-of-type {\n",
              "        vertical-align: middle;\n",
              "    }\n",
              "\n",
              "    .dataframe tbody tr th {\n",
              "        vertical-align: top;\n",
              "    }\n",
              "\n",
              "    .dataframe thead th {\n",
              "        text-align: right;\n",
              "    }\n",
              "</style>\n",
              "<table border=\"1\" class=\"dataframe\">\n",
              "  <thead>\n",
              "    <tr style=\"text-align: right;\">\n",
              "      <th></th>\n",
              "      <th>id</th>\n",
              "      <th>diagnosis</th>\n",
              "      <th>radius_mean</th>\n",
              "      <th>texture_mean</th>\n",
              "      <th>perimeter_mean</th>\n",
              "      <th>area_mean</th>\n",
              "      <th>smoothness_mean</th>\n",
              "      <th>compactness_mean</th>\n",
              "      <th>concavity_mean</th>\n",
              "      <th>points_mean</th>\n",
              "      <th>...</th>\n",
              "      <th>radius_worst</th>\n",
              "      <th>texture_worst</th>\n",
              "      <th>perimeter_worst</th>\n",
              "      <th>area_worst</th>\n",
              "      <th>smoothness_worst</th>\n",
              "      <th>compactness_worst</th>\n",
              "      <th>concavity_worst</th>\n",
              "      <th>points_worst</th>\n",
              "      <th>symmetry_worst</th>\n",
              "      <th>dimension_worst</th>\n",
              "    </tr>\n",
              "  </thead>\n",
              "  <tbody>\n",
              "    <tr>\n",
              "      <th>0</th>\n",
              "      <td>87139402</td>\n",
              "      <td>B</td>\n",
              "      <td>12.32</td>\n",
              "      <td>12.39</td>\n",
              "      <td>78.85</td>\n",
              "      <td>464.1</td>\n",
              "      <td>0.10280</td>\n",
              "      <td>0.06981</td>\n",
              "      <td>0.03987</td>\n",
              "      <td>0.03700</td>\n",
              "      <td>...</td>\n",
              "      <td>13.50</td>\n",
              "      <td>15.64</td>\n",
              "      <td>86.97</td>\n",
              "      <td>549.1</td>\n",
              "      <td>0.1385</td>\n",
              "      <td>0.1266</td>\n",
              "      <td>0.12420</td>\n",
              "      <td>0.09391</td>\n",
              "      <td>0.2827</td>\n",
              "      <td>0.06771</td>\n",
              "    </tr>\n",
              "    <tr>\n",
              "      <th>1</th>\n",
              "      <td>8910251</td>\n",
              "      <td>B</td>\n",
              "      <td>10.60</td>\n",
              "      <td>18.95</td>\n",
              "      <td>69.28</td>\n",
              "      <td>346.4</td>\n",
              "      <td>0.09688</td>\n",
              "      <td>0.11470</td>\n",
              "      <td>0.06387</td>\n",
              "      <td>0.02642</td>\n",
              "      <td>...</td>\n",
              "      <td>11.88</td>\n",
              "      <td>22.94</td>\n",
              "      <td>78.28</td>\n",
              "      <td>424.8</td>\n",
              "      <td>0.1213</td>\n",
              "      <td>0.2515</td>\n",
              "      <td>0.19160</td>\n",
              "      <td>0.07926</td>\n",
              "      <td>0.2940</td>\n",
              "      <td>0.07587</td>\n",
              "    </tr>\n",
              "    <tr>\n",
              "      <th>2</th>\n",
              "      <td>905520</td>\n",
              "      <td>B</td>\n",
              "      <td>11.04</td>\n",
              "      <td>16.83</td>\n",
              "      <td>70.92</td>\n",
              "      <td>373.2</td>\n",
              "      <td>0.10770</td>\n",
              "      <td>0.07804</td>\n",
              "      <td>0.03046</td>\n",
              "      <td>0.02480</td>\n",
              "      <td>...</td>\n",
              "      <td>12.41</td>\n",
              "      <td>26.44</td>\n",
              "      <td>79.93</td>\n",
              "      <td>471.4</td>\n",
              "      <td>0.1369</td>\n",
              "      <td>0.1482</td>\n",
              "      <td>0.10670</td>\n",
              "      <td>0.07431</td>\n",
              "      <td>0.2998</td>\n",
              "      <td>0.07881</td>\n",
              "    </tr>\n",
              "    <tr>\n",
              "      <th>3</th>\n",
              "      <td>868871</td>\n",
              "      <td>B</td>\n",
              "      <td>11.28</td>\n",
              "      <td>13.39</td>\n",
              "      <td>73.00</td>\n",
              "      <td>384.8</td>\n",
              "      <td>0.11640</td>\n",
              "      <td>0.11360</td>\n",
              "      <td>0.04635</td>\n",
              "      <td>0.04796</td>\n",
              "      <td>...</td>\n",
              "      <td>11.92</td>\n",
              "      <td>15.77</td>\n",
              "      <td>76.53</td>\n",
              "      <td>434.0</td>\n",
              "      <td>0.1367</td>\n",
              "      <td>0.1822</td>\n",
              "      <td>0.08669</td>\n",
              "      <td>0.08611</td>\n",
              "      <td>0.2102</td>\n",
              "      <td>0.06784</td>\n",
              "    </tr>\n",
              "    <tr>\n",
              "      <th>4</th>\n",
              "      <td>9012568</td>\n",
              "      <td>B</td>\n",
              "      <td>15.19</td>\n",
              "      <td>13.21</td>\n",
              "      <td>97.65</td>\n",
              "      <td>711.8</td>\n",
              "      <td>0.07963</td>\n",
              "      <td>0.06934</td>\n",
              "      <td>0.03393</td>\n",
              "      <td>0.02657</td>\n",
              "      <td>...</td>\n",
              "      <td>16.20</td>\n",
              "      <td>15.73</td>\n",
              "      <td>104.50</td>\n",
              "      <td>819.1</td>\n",
              "      <td>0.1126</td>\n",
              "      <td>0.1737</td>\n",
              "      <td>0.13620</td>\n",
              "      <td>0.08178</td>\n",
              "      <td>0.2487</td>\n",
              "      <td>0.06766</td>\n",
              "    </tr>\n",
              "  </tbody>\n",
              "</table>\n",
              "<p>5 rows × 32 columns</p>\n",
              "</div>\n",
              "      <button class=\"colab-df-convert\" onclick=\"convertToInteractive('df-317210f7-5d37-4d23-8cf3-3f899472749d')\"\n",
              "              title=\"Convert this dataframe to an interactive table.\"\n",
              "              style=\"display:none;\">\n",
              "\n",
              "  <svg xmlns=\"http://www.w3.org/2000/svg\" height=\"24px\"viewBox=\"0 0 24 24\"\n",
              "       width=\"24px\">\n",
              "    <path d=\"M0 0h24v24H0V0z\" fill=\"none\"/>\n",
              "    <path d=\"M18.56 5.44l.94 2.06.94-2.06 2.06-.94-2.06-.94-.94-2.06-.94 2.06-2.06.94zm-11 1L8.5 8.5l.94-2.06 2.06-.94-2.06-.94L8.5 2.5l-.94 2.06-2.06.94zm10 10l.94 2.06.94-2.06 2.06-.94-2.06-.94-.94-2.06-.94 2.06-2.06.94z\"/><path d=\"M17.41 7.96l-1.37-1.37c-.4-.4-.92-.59-1.43-.59-.52 0-1.04.2-1.43.59L10.3 9.45l-7.72 7.72c-.78.78-.78 2.05 0 2.83L4 21.41c.39.39.9.59 1.41.59.51 0 1.02-.2 1.41-.59l7.78-7.78 2.81-2.81c.8-.78.8-2.07 0-2.86zM5.41 20L4 18.59l7.72-7.72 1.47 1.35L5.41 20z\"/>\n",
              "  </svg>\n",
              "      </button>\n",
              "\n",
              "\n",
              "\n",
              "    <div id=\"df-366148c7-cb51-4372-b7cb-25baa3b20c35\">\n",
              "      <button class=\"colab-df-quickchart\" onclick=\"quickchart('df-366148c7-cb51-4372-b7cb-25baa3b20c35')\"\n",
              "              title=\"Suggest charts.\"\n",
              "              style=\"display:none;\">\n",
              "\n",
              "<svg xmlns=\"http://www.w3.org/2000/svg\" height=\"24px\"viewBox=\"0 0 24 24\"\n",
              "     width=\"24px\">\n",
              "    <g>\n",
              "        <path d=\"M19 3H5c-1.1 0-2 .9-2 2v14c0 1.1.9 2 2 2h14c1.1 0 2-.9 2-2V5c0-1.1-.9-2-2-2zM9 17H7v-7h2v7zm4 0h-2V7h2v10zm4 0h-2v-4h2v4z\"/>\n",
              "    </g>\n",
              "</svg>\n",
              "      </button>\n",
              "    </div>\n",
              "\n",
              "<style>\n",
              "  .colab-df-quickchart {\n",
              "    background-color: #E8F0FE;\n",
              "    border: none;\n",
              "    border-radius: 50%;\n",
              "    cursor: pointer;\n",
              "    display: none;\n",
              "    fill: #1967D2;\n",
              "    height: 32px;\n",
              "    padding: 0 0 0 0;\n",
              "    width: 32px;\n",
              "  }\n",
              "\n",
              "  .colab-df-quickchart:hover {\n",
              "    background-color: #E2EBFA;\n",
              "    box-shadow: 0px 1px 2px rgba(60, 64, 67, 0.3), 0px 1px 3px 1px rgba(60, 64, 67, 0.15);\n",
              "    fill: #174EA6;\n",
              "  }\n",
              "\n",
              "  [theme=dark] .colab-df-quickchart {\n",
              "    background-color: #3B4455;\n",
              "    fill: #D2E3FC;\n",
              "  }\n",
              "\n",
              "  [theme=dark] .colab-df-quickchart:hover {\n",
              "    background-color: #434B5C;\n",
              "    box-shadow: 0px 1px 3px 1px rgba(0, 0, 0, 0.15);\n",
              "    filter: drop-shadow(0px 1px 2px rgba(0, 0, 0, 0.3));\n",
              "    fill: #FFFFFF;\n",
              "  }\n",
              "</style>\n",
              "\n",
              "    <script>\n",
              "      async function quickchart(key) {\n",
              "        const containerElement = document.querySelector('#' + key);\n",
              "        const charts = await google.colab.kernel.invokeFunction(\n",
              "            'suggestCharts', [key], {});\n",
              "      }\n",
              "    </script>\n",
              "\n",
              "      <script>\n",
              "\n",
              "function displayQuickchartButton(domScope) {\n",
              "  let quickchartButtonEl =\n",
              "    domScope.querySelector('#df-366148c7-cb51-4372-b7cb-25baa3b20c35 button.colab-df-quickchart');\n",
              "  quickchartButtonEl.style.display =\n",
              "    google.colab.kernel.accessAllowed ? 'block' : 'none';\n",
              "}\n",
              "\n",
              "        displayQuickchartButton(document);\n",
              "      </script>\n",
              "      <style>\n",
              "    .colab-df-container {\n",
              "      display:flex;\n",
              "      flex-wrap:wrap;\n",
              "      gap: 12px;\n",
              "    }\n",
              "\n",
              "    .colab-df-convert {\n",
              "      background-color: #E8F0FE;\n",
              "      border: none;\n",
              "      border-radius: 50%;\n",
              "      cursor: pointer;\n",
              "      display: none;\n",
              "      fill: #1967D2;\n",
              "      height: 32px;\n",
              "      padding: 0 0 0 0;\n",
              "      width: 32px;\n",
              "    }\n",
              "\n",
              "    .colab-df-convert:hover {\n",
              "      background-color: #E2EBFA;\n",
              "      box-shadow: 0px 1px 2px rgba(60, 64, 67, 0.3), 0px 1px 3px 1px rgba(60, 64, 67, 0.15);\n",
              "      fill: #174EA6;\n",
              "    }\n",
              "\n",
              "    [theme=dark] .colab-df-convert {\n",
              "      background-color: #3B4455;\n",
              "      fill: #D2E3FC;\n",
              "    }\n",
              "\n",
              "    [theme=dark] .colab-df-convert:hover {\n",
              "      background-color: #434B5C;\n",
              "      box-shadow: 0px 1px 3px 1px rgba(0, 0, 0, 0.15);\n",
              "      filter: drop-shadow(0px 1px 2px rgba(0, 0, 0, 0.3));\n",
              "      fill: #FFFFFF;\n",
              "    }\n",
              "  </style>\n",
              "\n",
              "      <script>\n",
              "        const buttonEl =\n",
              "          document.querySelector('#df-317210f7-5d37-4d23-8cf3-3f899472749d button.colab-df-convert');\n",
              "        buttonEl.style.display =\n",
              "          google.colab.kernel.accessAllowed ? 'block' : 'none';\n",
              "\n",
              "        async function convertToInteractive(key) {\n",
              "          const element = document.querySelector('#df-317210f7-5d37-4d23-8cf3-3f899472749d');\n",
              "          const dataTable =\n",
              "            await google.colab.kernel.invokeFunction('convertToInteractive',\n",
              "                                                     [key], {});\n",
              "          if (!dataTable) return;\n",
              "\n",
              "          const docLinkHtml = 'Like what you see? Visit the ' +\n",
              "            '<a target=\"_blank\" href=https://colab.research.google.com/notebooks/data_table.ipynb>data table notebook</a>'\n",
              "            + ' to learn more about interactive tables.';\n",
              "          element.innerHTML = '';\n",
              "          dataTable['output_type'] = 'display_data';\n",
              "          await google.colab.output.renderOutput(dataTable, element);\n",
              "          const docLink = document.createElement('div');\n",
              "          docLink.innerHTML = docLinkHtml;\n",
              "          element.appendChild(docLink);\n",
              "        }\n",
              "      </script>\n",
              "    </div>\n",
              "  </div>\n"
            ]
          },
          "metadata": {},
          "execution_count": 7
        }
      ]
    },
    {
      "cell_type": "code",
      "source": [
        "# our target variable is diagnosis column"
      ],
      "metadata": {
        "id": "n9J3weQmHYgQ"
      },
      "execution_count": null,
      "outputs": []
    },
    {
      "cell_type": "code",
      "source": [
        "df.shape"
      ],
      "metadata": {
        "colab": {
          "base_uri": "https://localhost:8080/"
        },
        "id": "a6X-vKI9GfoV",
        "outputId": "9aa6688b-6f5c-4271-afe8-ac4d2533af51"
      },
      "execution_count": null,
      "outputs": [
        {
          "output_type": "execute_result",
          "data": {
            "text/plain": [
              "(569, 32)"
            ]
          },
          "metadata": {},
          "execution_count": 8
        }
      ]
    },
    {
      "cell_type": "code",
      "source": [
        "df.dtypes"
      ],
      "metadata": {
        "colab": {
          "base_uri": "https://localhost:8080/"
        },
        "id": "dMcX-mnoGrBh",
        "outputId": "f9446969-dd79-400d-bce7-e68ad39f8d60"
      },
      "execution_count": null,
      "outputs": [
        {
          "output_type": "execute_result",
          "data": {
            "text/plain": [
              "id                     int64\n",
              "diagnosis             object\n",
              "radius_mean          float64\n",
              "texture_mean         float64\n",
              "perimeter_mean       float64\n",
              "area_mean            float64\n",
              "smoothness_mean      float64\n",
              "compactness_mean     float64\n",
              "concavity_mean       float64\n",
              "points_mean          float64\n",
              "symmetry_mean        float64\n",
              "dimension_mean       float64\n",
              "radius_se            float64\n",
              "texture_se           float64\n",
              "perimeter_se         float64\n",
              "area_se              float64\n",
              "smoothness_se        float64\n",
              "compactness_se       float64\n",
              "concavity_se         float64\n",
              "points_se            float64\n",
              "symmetry_se          float64\n",
              "dimension_se         float64\n",
              "radius_worst         float64\n",
              "texture_worst        float64\n",
              "perimeter_worst      float64\n",
              "area_worst           float64\n",
              "smoothness_worst     float64\n",
              "compactness_worst    float64\n",
              "concavity_worst      float64\n",
              "points_worst         float64\n",
              "symmetry_worst       float64\n",
              "dimension_worst      float64\n",
              "dtype: object"
            ]
          },
          "metadata": {},
          "execution_count": 9
        }
      ]
    },
    {
      "cell_type": "code",
      "source": [
        "df.isnull().sum()"
      ],
      "metadata": {
        "colab": {
          "base_uri": "https://localhost:8080/"
        },
        "id": "UGdBnmJ-HGGr",
        "outputId": "2888140e-020b-4a82-915d-18a3ee95348b"
      },
      "execution_count": null,
      "outputs": [
        {
          "output_type": "execute_result",
          "data": {
            "text/plain": [
              "id                   0\n",
              "diagnosis            0\n",
              "radius_mean          0\n",
              "texture_mean         0\n",
              "perimeter_mean       0\n",
              "area_mean            0\n",
              "smoothness_mean      0\n",
              "compactness_mean     0\n",
              "concavity_mean       0\n",
              "points_mean          0\n",
              "symmetry_mean        0\n",
              "dimension_mean       0\n",
              "radius_se            0\n",
              "texture_se           0\n",
              "perimeter_se         0\n",
              "area_se              0\n",
              "smoothness_se        0\n",
              "compactness_se       0\n",
              "concavity_se         0\n",
              "points_se            0\n",
              "symmetry_se          0\n",
              "dimension_se         0\n",
              "radius_worst         0\n",
              "texture_worst        0\n",
              "perimeter_worst      0\n",
              "area_worst           0\n",
              "smoothness_worst     0\n",
              "compactness_worst    0\n",
              "concavity_worst      0\n",
              "points_worst         0\n",
              "symmetry_worst       0\n",
              "dimension_worst      0\n",
              "dtype: int64"
            ]
          },
          "metadata": {},
          "execution_count": 11
        }
      ]
    },
    {
      "cell_type": "code",
      "source": [
        "df.info()"
      ],
      "metadata": {
        "colab": {
          "base_uri": "https://localhost:8080/"
        },
        "id": "otAq1u1JHAGm",
        "outputId": "6604723b-eb4f-467a-f110-92f00c884ec2"
      },
      "execution_count": null,
      "outputs": [
        {
          "output_type": "stream",
          "name": "stdout",
          "text": [
            "<class 'pandas.core.frame.DataFrame'>\n",
            "RangeIndex: 569 entries, 0 to 568\n",
            "Data columns (total 32 columns):\n",
            " #   Column             Non-Null Count  Dtype  \n",
            "---  ------             --------------  -----  \n",
            " 0   id                 569 non-null    int64  \n",
            " 1   diagnosis          569 non-null    object \n",
            " 2   radius_mean        569 non-null    float64\n",
            " 3   texture_mean       569 non-null    float64\n",
            " 4   perimeter_mean     569 non-null    float64\n",
            " 5   area_mean          569 non-null    float64\n",
            " 6   smoothness_mean    569 non-null    float64\n",
            " 7   compactness_mean   569 non-null    float64\n",
            " 8   concavity_mean     569 non-null    float64\n",
            " 9   points_mean        569 non-null    float64\n",
            " 10  symmetry_mean      569 non-null    float64\n",
            " 11  dimension_mean     569 non-null    float64\n",
            " 12  radius_se          569 non-null    float64\n",
            " 13  texture_se         569 non-null    float64\n",
            " 14  perimeter_se       569 non-null    float64\n",
            " 15  area_se            569 non-null    float64\n",
            " 16  smoothness_se      569 non-null    float64\n",
            " 17  compactness_se     569 non-null    float64\n",
            " 18  concavity_se       569 non-null    float64\n",
            " 19  points_se          569 non-null    float64\n",
            " 20  symmetry_se        569 non-null    float64\n",
            " 21  dimension_se       569 non-null    float64\n",
            " 22  radius_worst       569 non-null    float64\n",
            " 23  texture_worst      569 non-null    float64\n",
            " 24  perimeter_worst    569 non-null    float64\n",
            " 25  area_worst         569 non-null    float64\n",
            " 26  smoothness_worst   569 non-null    float64\n",
            " 27  compactness_worst  569 non-null    float64\n",
            " 28  concavity_worst    569 non-null    float64\n",
            " 29  points_worst       569 non-null    float64\n",
            " 30  symmetry_worst     569 non-null    float64\n",
            " 31  dimension_worst    569 non-null    float64\n",
            "dtypes: float64(30), int64(1), object(1)\n",
            "memory usage: 142.4+ KB\n"
          ]
        }
      ]
    },
    {
      "cell_type": "code",
      "source": [
        "df[\"diagnosis\"]"
      ],
      "metadata": {
        "colab": {
          "base_uri": "https://localhost:8080/"
        },
        "id": "eAfKhHfMHMNe",
        "outputId": "98f32d7e-5a86-476c-b56f-3a413f7c81e4"
      },
      "execution_count": null,
      "outputs": [
        {
          "output_type": "execute_result",
          "data": {
            "text/plain": [
              "0      B\n",
              "1      B\n",
              "2      B\n",
              "3      B\n",
              "4      B\n",
              "      ..\n",
              "564    B\n",
              "565    B\n",
              "566    M\n",
              "567    B\n",
              "568    M\n",
              "Name: diagnosis, Length: 569, dtype: object"
            ]
          },
          "metadata": {},
          "execution_count": 12
        }
      ]
    },
    {
      "cell_type": "code",
      "source": [
        "df[\"diagnosis\"] = df[\"diagnosis\"].astype(\"category\")"
      ],
      "metadata": {
        "id": "qVGs-BsnJgPp"
      },
      "execution_count": null,
      "outputs": []
    },
    {
      "cell_type": "code",
      "source": [
        "df.dtypes"
      ],
      "metadata": {
        "colab": {
          "base_uri": "https://localhost:8080/"
        },
        "id": "7JPyCteHK7bQ",
        "outputId": "68ec6e0d-fc2a-4049-8539-1088f026b161"
      },
      "execution_count": null,
      "outputs": [
        {
          "output_type": "execute_result",
          "data": {
            "text/plain": [
              "id                      int64\n",
              "diagnosis            category\n",
              "radius_mean           float64\n",
              "texture_mean          float64\n",
              "perimeter_mean        float64\n",
              "area_mean             float64\n",
              "smoothness_mean       float64\n",
              "compactness_mean      float64\n",
              "concavity_mean        float64\n",
              "points_mean           float64\n",
              "symmetry_mean         float64\n",
              "dimension_mean        float64\n",
              "radius_se             float64\n",
              "texture_se            float64\n",
              "perimeter_se          float64\n",
              "area_se               float64\n",
              "smoothness_se         float64\n",
              "compactness_se        float64\n",
              "concavity_se          float64\n",
              "points_se             float64\n",
              "symmetry_se           float64\n",
              "dimension_se          float64\n",
              "radius_worst          float64\n",
              "texture_worst         float64\n",
              "perimeter_worst       float64\n",
              "area_worst            float64\n",
              "smoothness_worst      float64\n",
              "compactness_worst     float64\n",
              "concavity_worst       float64\n",
              "points_worst          float64\n",
              "symmetry_worst        float64\n",
              "dimension_worst       float64\n",
              "dtype: object"
            ]
          },
          "metadata": {},
          "execution_count": 14
        }
      ]
    },
    {
      "cell_type": "code",
      "source": [
        "df[\"diagnosis\"].value_counts()"
      ],
      "metadata": {
        "colab": {
          "base_uri": "https://localhost:8080/"
        },
        "id": "-nOlWdfUK-Jp",
        "outputId": "afa4b78e-bf99-4694-e638-f5d3e3d34bcd"
      },
      "execution_count": null,
      "outputs": [
        {
          "output_type": "execute_result",
          "data": {
            "text/plain": [
              "B    357\n",
              "M    212\n",
              "Name: diagnosis, dtype: int64"
            ]
          },
          "metadata": {},
          "execution_count": 15
        }
      ]
    },
    {
      "cell_type": "code",
      "source": [
        "df[\"id\"]\n",
        "\n"
      ],
      "metadata": {
        "colab": {
          "base_uri": "https://localhost:8080/"
        },
        "id": "wnH-2W70LwIf",
        "outputId": "f5da7d3d-965b-4aa2-b57e-51cad1683ef5"
      },
      "execution_count": null,
      "outputs": [
        {
          "output_type": "execute_result",
          "data": {
            "text/plain": [
              "0       87139402\n",
              "1        8910251\n",
              "2         905520\n",
              "3         868871\n",
              "4        9012568\n",
              "         ...    \n",
              "564    911320502\n",
              "565       898677\n",
              "566       873885\n",
              "567       911201\n",
              "568      9012795\n",
              "Name: id, Length: 569, dtype: int64"
            ]
          },
          "metadata": {},
          "execution_count": 18
        }
      ]
    },
    {
      "cell_type": "code",
      "source": [
        "df.drop(labels = \"id\",axis =1,inplace  = True)"
      ],
      "metadata": {
        "id": "f3NI_l8DL_zH"
      },
      "execution_count": null,
      "outputs": []
    },
    {
      "cell_type": "code",
      "source": [
        "df.head()"
      ],
      "metadata": {
        "colab": {
          "base_uri": "https://localhost:8080/",
          "height": 299
        },
        "id": "87tFGFRkMN0r",
        "outputId": "458f9002-0469-4e97-cbf0-328813f7a6b8"
      },
      "execution_count": null,
      "outputs": [
        {
          "output_type": "execute_result",
          "data": {
            "text/plain": [
              "  diagnosis  radius_mean  texture_mean  perimeter_mean  area_mean  \\\n",
              "0         B        12.32         12.39           78.85      464.1   \n",
              "1         B        10.60         18.95           69.28      346.4   \n",
              "2         B        11.04         16.83           70.92      373.2   \n",
              "3         B        11.28         13.39           73.00      384.8   \n",
              "4         B        15.19         13.21           97.65      711.8   \n",
              "\n",
              "   smoothness_mean  compactness_mean  concavity_mean  points_mean  \\\n",
              "0          0.10280           0.06981         0.03987      0.03700   \n",
              "1          0.09688           0.11470         0.06387      0.02642   \n",
              "2          0.10770           0.07804         0.03046      0.02480   \n",
              "3          0.11640           0.11360         0.04635      0.04796   \n",
              "4          0.07963           0.06934         0.03393      0.02657   \n",
              "\n",
              "   symmetry_mean  ...  radius_worst  texture_worst  perimeter_worst  \\\n",
              "0         0.1959  ...         13.50          15.64            86.97   \n",
              "1         0.1922  ...         11.88          22.94            78.28   \n",
              "2         0.1714  ...         12.41          26.44            79.93   \n",
              "3         0.1771  ...         11.92          15.77            76.53   \n",
              "4         0.1721  ...         16.20          15.73           104.50   \n",
              "\n",
              "   area_worst  smoothness_worst  compactness_worst  concavity_worst  \\\n",
              "0       549.1            0.1385             0.1266          0.12420   \n",
              "1       424.8            0.1213             0.2515          0.19160   \n",
              "2       471.4            0.1369             0.1482          0.10670   \n",
              "3       434.0            0.1367             0.1822          0.08669   \n",
              "4       819.1            0.1126             0.1737          0.13620   \n",
              "\n",
              "   points_worst  symmetry_worst  dimension_worst  \n",
              "0       0.09391          0.2827          0.06771  \n",
              "1       0.07926          0.2940          0.07587  \n",
              "2       0.07431          0.2998          0.07881  \n",
              "3       0.08611          0.2102          0.06784  \n",
              "4       0.08178          0.2487          0.06766  \n",
              "\n",
              "[5 rows x 31 columns]"
            ],
            "text/html": [
              "\n",
              "\n",
              "  <div id=\"df-0f10a76f-a831-4706-8119-390f506f65cc\">\n",
              "    <div class=\"colab-df-container\">\n",
              "      <div>\n",
              "<style scoped>\n",
              "    .dataframe tbody tr th:only-of-type {\n",
              "        vertical-align: middle;\n",
              "    }\n",
              "\n",
              "    .dataframe tbody tr th {\n",
              "        vertical-align: top;\n",
              "    }\n",
              "\n",
              "    .dataframe thead th {\n",
              "        text-align: right;\n",
              "    }\n",
              "</style>\n",
              "<table border=\"1\" class=\"dataframe\">\n",
              "  <thead>\n",
              "    <tr style=\"text-align: right;\">\n",
              "      <th></th>\n",
              "      <th>diagnosis</th>\n",
              "      <th>radius_mean</th>\n",
              "      <th>texture_mean</th>\n",
              "      <th>perimeter_mean</th>\n",
              "      <th>area_mean</th>\n",
              "      <th>smoothness_mean</th>\n",
              "      <th>compactness_mean</th>\n",
              "      <th>concavity_mean</th>\n",
              "      <th>points_mean</th>\n",
              "      <th>symmetry_mean</th>\n",
              "      <th>...</th>\n",
              "      <th>radius_worst</th>\n",
              "      <th>texture_worst</th>\n",
              "      <th>perimeter_worst</th>\n",
              "      <th>area_worst</th>\n",
              "      <th>smoothness_worst</th>\n",
              "      <th>compactness_worst</th>\n",
              "      <th>concavity_worst</th>\n",
              "      <th>points_worst</th>\n",
              "      <th>symmetry_worst</th>\n",
              "      <th>dimension_worst</th>\n",
              "    </tr>\n",
              "  </thead>\n",
              "  <tbody>\n",
              "    <tr>\n",
              "      <th>0</th>\n",
              "      <td>B</td>\n",
              "      <td>12.32</td>\n",
              "      <td>12.39</td>\n",
              "      <td>78.85</td>\n",
              "      <td>464.1</td>\n",
              "      <td>0.10280</td>\n",
              "      <td>0.06981</td>\n",
              "      <td>0.03987</td>\n",
              "      <td>0.03700</td>\n",
              "      <td>0.1959</td>\n",
              "      <td>...</td>\n",
              "      <td>13.50</td>\n",
              "      <td>15.64</td>\n",
              "      <td>86.97</td>\n",
              "      <td>549.1</td>\n",
              "      <td>0.1385</td>\n",
              "      <td>0.1266</td>\n",
              "      <td>0.12420</td>\n",
              "      <td>0.09391</td>\n",
              "      <td>0.2827</td>\n",
              "      <td>0.06771</td>\n",
              "    </tr>\n",
              "    <tr>\n",
              "      <th>1</th>\n",
              "      <td>B</td>\n",
              "      <td>10.60</td>\n",
              "      <td>18.95</td>\n",
              "      <td>69.28</td>\n",
              "      <td>346.4</td>\n",
              "      <td>0.09688</td>\n",
              "      <td>0.11470</td>\n",
              "      <td>0.06387</td>\n",
              "      <td>0.02642</td>\n",
              "      <td>0.1922</td>\n",
              "      <td>...</td>\n",
              "      <td>11.88</td>\n",
              "      <td>22.94</td>\n",
              "      <td>78.28</td>\n",
              "      <td>424.8</td>\n",
              "      <td>0.1213</td>\n",
              "      <td>0.2515</td>\n",
              "      <td>0.19160</td>\n",
              "      <td>0.07926</td>\n",
              "      <td>0.2940</td>\n",
              "      <td>0.07587</td>\n",
              "    </tr>\n",
              "    <tr>\n",
              "      <th>2</th>\n",
              "      <td>B</td>\n",
              "      <td>11.04</td>\n",
              "      <td>16.83</td>\n",
              "      <td>70.92</td>\n",
              "      <td>373.2</td>\n",
              "      <td>0.10770</td>\n",
              "      <td>0.07804</td>\n",
              "      <td>0.03046</td>\n",
              "      <td>0.02480</td>\n",
              "      <td>0.1714</td>\n",
              "      <td>...</td>\n",
              "      <td>12.41</td>\n",
              "      <td>26.44</td>\n",
              "      <td>79.93</td>\n",
              "      <td>471.4</td>\n",
              "      <td>0.1369</td>\n",
              "      <td>0.1482</td>\n",
              "      <td>0.10670</td>\n",
              "      <td>0.07431</td>\n",
              "      <td>0.2998</td>\n",
              "      <td>0.07881</td>\n",
              "    </tr>\n",
              "    <tr>\n",
              "      <th>3</th>\n",
              "      <td>B</td>\n",
              "      <td>11.28</td>\n",
              "      <td>13.39</td>\n",
              "      <td>73.00</td>\n",
              "      <td>384.8</td>\n",
              "      <td>0.11640</td>\n",
              "      <td>0.11360</td>\n",
              "      <td>0.04635</td>\n",
              "      <td>0.04796</td>\n",
              "      <td>0.1771</td>\n",
              "      <td>...</td>\n",
              "      <td>11.92</td>\n",
              "      <td>15.77</td>\n",
              "      <td>76.53</td>\n",
              "      <td>434.0</td>\n",
              "      <td>0.1367</td>\n",
              "      <td>0.1822</td>\n",
              "      <td>0.08669</td>\n",
              "      <td>0.08611</td>\n",
              "      <td>0.2102</td>\n",
              "      <td>0.06784</td>\n",
              "    </tr>\n",
              "    <tr>\n",
              "      <th>4</th>\n",
              "      <td>B</td>\n",
              "      <td>15.19</td>\n",
              "      <td>13.21</td>\n",
              "      <td>97.65</td>\n",
              "      <td>711.8</td>\n",
              "      <td>0.07963</td>\n",
              "      <td>0.06934</td>\n",
              "      <td>0.03393</td>\n",
              "      <td>0.02657</td>\n",
              "      <td>0.1721</td>\n",
              "      <td>...</td>\n",
              "      <td>16.20</td>\n",
              "      <td>15.73</td>\n",
              "      <td>104.50</td>\n",
              "      <td>819.1</td>\n",
              "      <td>0.1126</td>\n",
              "      <td>0.1737</td>\n",
              "      <td>0.13620</td>\n",
              "      <td>0.08178</td>\n",
              "      <td>0.2487</td>\n",
              "      <td>0.06766</td>\n",
              "    </tr>\n",
              "  </tbody>\n",
              "</table>\n",
              "<p>5 rows × 31 columns</p>\n",
              "</div>\n",
              "      <button class=\"colab-df-convert\" onclick=\"convertToInteractive('df-0f10a76f-a831-4706-8119-390f506f65cc')\"\n",
              "              title=\"Convert this dataframe to an interactive table.\"\n",
              "              style=\"display:none;\">\n",
              "\n",
              "  <svg xmlns=\"http://www.w3.org/2000/svg\" height=\"24px\"viewBox=\"0 0 24 24\"\n",
              "       width=\"24px\">\n",
              "    <path d=\"M0 0h24v24H0V0z\" fill=\"none\"/>\n",
              "    <path d=\"M18.56 5.44l.94 2.06.94-2.06 2.06-.94-2.06-.94-.94-2.06-.94 2.06-2.06.94zm-11 1L8.5 8.5l.94-2.06 2.06-.94-2.06-.94L8.5 2.5l-.94 2.06-2.06.94zm10 10l.94 2.06.94-2.06 2.06-.94-2.06-.94-.94-2.06-.94 2.06-2.06.94z\"/><path d=\"M17.41 7.96l-1.37-1.37c-.4-.4-.92-.59-1.43-.59-.52 0-1.04.2-1.43.59L10.3 9.45l-7.72 7.72c-.78.78-.78 2.05 0 2.83L4 21.41c.39.39.9.59 1.41.59.51 0 1.02-.2 1.41-.59l7.78-7.78 2.81-2.81c.8-.78.8-2.07 0-2.86zM5.41 20L4 18.59l7.72-7.72 1.47 1.35L5.41 20z\"/>\n",
              "  </svg>\n",
              "      </button>\n",
              "\n",
              "\n",
              "\n",
              "    <div id=\"df-4c9a4111-d5e5-4d7c-adbe-f1f236555c6c\">\n",
              "      <button class=\"colab-df-quickchart\" onclick=\"quickchart('df-4c9a4111-d5e5-4d7c-adbe-f1f236555c6c')\"\n",
              "              title=\"Suggest charts.\"\n",
              "              style=\"display:none;\">\n",
              "\n",
              "<svg xmlns=\"http://www.w3.org/2000/svg\" height=\"24px\"viewBox=\"0 0 24 24\"\n",
              "     width=\"24px\">\n",
              "    <g>\n",
              "        <path d=\"M19 3H5c-1.1 0-2 .9-2 2v14c0 1.1.9 2 2 2h14c1.1 0 2-.9 2-2V5c0-1.1-.9-2-2-2zM9 17H7v-7h2v7zm4 0h-2V7h2v10zm4 0h-2v-4h2v4z\"/>\n",
              "    </g>\n",
              "</svg>\n",
              "      </button>\n",
              "    </div>\n",
              "\n",
              "<style>\n",
              "  .colab-df-quickchart {\n",
              "    background-color: #E8F0FE;\n",
              "    border: none;\n",
              "    border-radius: 50%;\n",
              "    cursor: pointer;\n",
              "    display: none;\n",
              "    fill: #1967D2;\n",
              "    height: 32px;\n",
              "    padding: 0 0 0 0;\n",
              "    width: 32px;\n",
              "  }\n",
              "\n",
              "  .colab-df-quickchart:hover {\n",
              "    background-color: #E2EBFA;\n",
              "    box-shadow: 0px 1px 2px rgba(60, 64, 67, 0.3), 0px 1px 3px 1px rgba(60, 64, 67, 0.15);\n",
              "    fill: #174EA6;\n",
              "  }\n",
              "\n",
              "  [theme=dark] .colab-df-quickchart {\n",
              "    background-color: #3B4455;\n",
              "    fill: #D2E3FC;\n",
              "  }\n",
              "\n",
              "  [theme=dark] .colab-df-quickchart:hover {\n",
              "    background-color: #434B5C;\n",
              "    box-shadow: 0px 1px 3px 1px rgba(0, 0, 0, 0.15);\n",
              "    filter: drop-shadow(0px 1px 2px rgba(0, 0, 0, 0.3));\n",
              "    fill: #FFFFFF;\n",
              "  }\n",
              "</style>\n",
              "\n",
              "    <script>\n",
              "      async function quickchart(key) {\n",
              "        const containerElement = document.querySelector('#' + key);\n",
              "        const charts = await google.colab.kernel.invokeFunction(\n",
              "            'suggestCharts', [key], {});\n",
              "      }\n",
              "    </script>\n",
              "\n",
              "      <script>\n",
              "\n",
              "function displayQuickchartButton(domScope) {\n",
              "  let quickchartButtonEl =\n",
              "    domScope.querySelector('#df-4c9a4111-d5e5-4d7c-adbe-f1f236555c6c button.colab-df-quickchart');\n",
              "  quickchartButtonEl.style.display =\n",
              "    google.colab.kernel.accessAllowed ? 'block' : 'none';\n",
              "}\n",
              "\n",
              "        displayQuickchartButton(document);\n",
              "      </script>\n",
              "      <style>\n",
              "    .colab-df-container {\n",
              "      display:flex;\n",
              "      flex-wrap:wrap;\n",
              "      gap: 12px;\n",
              "    }\n",
              "\n",
              "    .colab-df-convert {\n",
              "      background-color: #E8F0FE;\n",
              "      border: none;\n",
              "      border-radius: 50%;\n",
              "      cursor: pointer;\n",
              "      display: none;\n",
              "      fill: #1967D2;\n",
              "      height: 32px;\n",
              "      padding: 0 0 0 0;\n",
              "      width: 32px;\n",
              "    }\n",
              "\n",
              "    .colab-df-convert:hover {\n",
              "      background-color: #E2EBFA;\n",
              "      box-shadow: 0px 1px 2px rgba(60, 64, 67, 0.3), 0px 1px 3px 1px rgba(60, 64, 67, 0.15);\n",
              "      fill: #174EA6;\n",
              "    }\n",
              "\n",
              "    [theme=dark] .colab-df-convert {\n",
              "      background-color: #3B4455;\n",
              "      fill: #D2E3FC;\n",
              "    }\n",
              "\n",
              "    [theme=dark] .colab-df-convert:hover {\n",
              "      background-color: #434B5C;\n",
              "      box-shadow: 0px 1px 3px 1px rgba(0, 0, 0, 0.15);\n",
              "      filter: drop-shadow(0px 1px 2px rgba(0, 0, 0, 0.3));\n",
              "      fill: #FFFFFF;\n",
              "    }\n",
              "  </style>\n",
              "\n",
              "      <script>\n",
              "        const buttonEl =\n",
              "          document.querySelector('#df-0f10a76f-a831-4706-8119-390f506f65cc button.colab-df-convert');\n",
              "        buttonEl.style.display =\n",
              "          google.colab.kernel.accessAllowed ? 'block' : 'none';\n",
              "\n",
              "        async function convertToInteractive(key) {\n",
              "          const element = document.querySelector('#df-0f10a76f-a831-4706-8119-390f506f65cc');\n",
              "          const dataTable =\n",
              "            await google.colab.kernel.invokeFunction('convertToInteractive',\n",
              "                                                     [key], {});\n",
              "          if (!dataTable) return;\n",
              "\n",
              "          const docLinkHtml = 'Like what you see? Visit the ' +\n",
              "            '<a target=\"_blank\" href=https://colab.research.google.com/notebooks/data_table.ipynb>data table notebook</a>'\n",
              "            + ' to learn more about interactive tables.';\n",
              "          element.innerHTML = '';\n",
              "          dataTable['output_type'] = 'display_data';\n",
              "          await google.colab.output.renderOutput(dataTable, element);\n",
              "          const docLink = document.createElement('div');\n",
              "          docLink.innerHTML = docLinkHtml;\n",
              "          element.appendChild(docLink);\n",
              "        }\n",
              "      </script>\n",
              "    </div>\n",
              "  </div>\n"
            ]
          },
          "metadata": {},
          "execution_count": 22
        }
      ]
    },
    {
      "cell_type": "code",
      "source": [],
      "metadata": {
        "id": "uPvcBkycby7I"
      },
      "execution_count": null,
      "outputs": []
    },
    {
      "cell_type": "code",
      "source": [
        "x = df.drop(\"diagnosis\",axis = 1)\n",
        "y = df[\"diagnosis\"]\n"
      ],
      "metadata": {
        "id": "mT9GFMeIMP7M"
      },
      "execution_count": null,
      "outputs": []
    },
    {
      "cell_type": "code",
      "source": [
        "from scipy.stats import zscore\n",
        "xScaled = x.apply(zscore)"
      ],
      "metadata": {
        "id": "7iqL9-nCM7AL"
      },
      "execution_count": null,
      "outputs": []
    },
    {
      "cell_type": "code",
      "source": [
        "xScaled.describe()"
      ],
      "metadata": {
        "colab": {
          "base_uri": "https://localhost:8080/",
          "height": 393
        },
        "id": "kbZWDqEVU_NN",
        "outputId": "1371adbd-21e6-4f13-8b16-c6b3f5341e26"
      },
      "execution_count": null,
      "outputs": [
        {
          "output_type": "execute_result",
          "data": {
            "text/plain": [
              "        radius_mean  texture_mean  perimeter_mean     area_mean  \\\n",
              "count  5.690000e+02  5.690000e+02    5.690000e+02  5.690000e+02   \n",
              "mean  -1.576556e-16 -7.711075e-16   -1.186319e-16 -2.029230e-16   \n",
              "std    1.000880e+00  1.000880e+00    1.000880e+00  1.000880e+00   \n",
              "min   -2.029648e+00 -2.229249e+00   -1.984504e+00 -1.454443e+00   \n",
              "25%   -6.893853e-01 -7.259631e-01   -6.919555e-01 -6.671955e-01   \n",
              "50%   -2.150816e-01 -1.046362e-01   -2.359800e-01 -2.951869e-01   \n",
              "75%    4.693926e-01  5.841756e-01    4.996769e-01  3.635073e-01   \n",
              "max    3.971288e+00  4.651889e+00    3.976130e+00  5.250529e+00   \n",
              "\n",
              "       smoothness_mean  compactness_mean  concavity_mean   points_mean  \\\n",
              "count     5.690000e+02      5.690000e+02    5.690000e+02  5.690000e+02   \n",
              "mean      1.717041e-16      1.935573e-16    4.058460e-17 -5.619407e-17   \n",
              "std       1.000880e+00      1.000880e+00    1.000880e+00  1.000880e+00   \n",
              "min      -3.112085e+00     -1.610136e+00   -1.114873e+00 -1.261820e+00   \n",
              "25%      -7.109628e-01     -7.470860e-01   -7.437479e-01 -7.379438e-01   \n",
              "50%      -3.489108e-02     -2.219405e-01   -3.422399e-01 -3.977212e-01   \n",
              "75%       6.361990e-01      4.938569e-01    5.260619e-01  6.469351e-01   \n",
              "max       4.770911e+00      4.568425e+00    4.243589e+00  3.927930e+00   \n",
              "\n",
              "       symmetry_mean  dimension_mean  ...  radius_worst  texture_worst  \\\n",
              "count   5.690000e+02    5.690000e+02  ...  5.690000e+02   5.690000e+02   \n",
              "mean    1.638994e-16   -1.492265e-15  ... -9.209583e-17   1.560946e-18   \n",
              "std     1.000880e+00    1.000880e+00  ...  1.000880e+00   1.000880e+00   \n",
              "min    -2.744117e+00   -1.819865e+00  ... -1.726901e+00  -2.223994e+00   \n",
              "25%    -7.032397e-01   -7.226392e-01  ... -6.749213e-01  -7.486293e-01   \n",
              "50%    -7.162650e-02   -1.782793e-01  ... -2.690395e-01  -4.351564e-02   \n",
              "75%     5.307792e-01    4.709834e-01  ...  5.220158e-01   6.583411e-01   \n",
              "max     4.484751e+00    4.910919e+00  ...  4.094189e+00   3.885905e+00   \n",
              "\n",
              "       perimeter_worst    area_worst  smoothness_worst  compactness_worst  \\\n",
              "count     5.690000e+02  5.690000e+02      5.690000e+02       5.690000e+02   \n",
              "mean     -3.777490e-16 -1.779479e-16     -2.239958e-16       9.365678e-18   \n",
              "std       1.000880e+00  1.000880e+00      1.000880e+00       1.000880e+00   \n",
              "min      -1.693361e+00 -1.222423e+00     -2.682695e+00      -1.443878e+00   \n",
              "25%      -6.895783e-01 -6.421359e-01     -6.912304e-01      -6.810833e-01   \n",
              "50%      -2.859802e-01 -3.411812e-01     -4.684277e-02      -2.695009e-01   \n",
              "75%       5.402790e-01  3.575891e-01      5.975448e-01       5.396688e-01   \n",
              "max       4.287337e+00  5.930172e+00      3.955374e+00       5.112877e+00   \n",
              "\n",
              "       concavity_worst  points_worst  symmetry_worst  dimension_worst  \n",
              "count     5.690000e+02  5.690000e+02    5.690000e+02     5.690000e+02  \n",
              "mean      9.053488e-17  2.263372e-16    2.684828e-16     2.044840e-16  \n",
              "std       1.000880e+00  1.000880e+00    1.000880e+00     1.000880e+00  \n",
              "min      -1.305831e+00 -1.745063e+00   -2.160960e+00    -1.601839e+00  \n",
              "25%      -7.565142e-01 -7.563999e-01   -6.418637e-01    -6.919118e-01  \n",
              "50%      -2.182321e-01 -2.234689e-01   -1.274095e-01    -2.164441e-01  \n",
              "75%       5.311411e-01  7.125100e-01    4.501382e-01     4.507624e-01  \n",
              "max       4.700669e+00  2.685877e+00    6.046041e+00     6.846856e+00  \n",
              "\n",
              "[8 rows x 30 columns]"
            ],
            "text/html": [
              "\n",
              "\n",
              "  <div id=\"df-ae9e0f7b-0ac0-41fa-b851-541efb105cf6\">\n",
              "    <div class=\"colab-df-container\">\n",
              "      <div>\n",
              "<style scoped>\n",
              "    .dataframe tbody tr th:only-of-type {\n",
              "        vertical-align: middle;\n",
              "    }\n",
              "\n",
              "    .dataframe tbody tr th {\n",
              "        vertical-align: top;\n",
              "    }\n",
              "\n",
              "    .dataframe thead th {\n",
              "        text-align: right;\n",
              "    }\n",
              "</style>\n",
              "<table border=\"1\" class=\"dataframe\">\n",
              "  <thead>\n",
              "    <tr style=\"text-align: right;\">\n",
              "      <th></th>\n",
              "      <th>radius_mean</th>\n",
              "      <th>texture_mean</th>\n",
              "      <th>perimeter_mean</th>\n",
              "      <th>area_mean</th>\n",
              "      <th>smoothness_mean</th>\n",
              "      <th>compactness_mean</th>\n",
              "      <th>concavity_mean</th>\n",
              "      <th>points_mean</th>\n",
              "      <th>symmetry_mean</th>\n",
              "      <th>dimension_mean</th>\n",
              "      <th>...</th>\n",
              "      <th>radius_worst</th>\n",
              "      <th>texture_worst</th>\n",
              "      <th>perimeter_worst</th>\n",
              "      <th>area_worst</th>\n",
              "      <th>smoothness_worst</th>\n",
              "      <th>compactness_worst</th>\n",
              "      <th>concavity_worst</th>\n",
              "      <th>points_worst</th>\n",
              "      <th>symmetry_worst</th>\n",
              "      <th>dimension_worst</th>\n",
              "    </tr>\n",
              "  </thead>\n",
              "  <tbody>\n",
              "    <tr>\n",
              "      <th>count</th>\n",
              "      <td>5.690000e+02</td>\n",
              "      <td>5.690000e+02</td>\n",
              "      <td>5.690000e+02</td>\n",
              "      <td>5.690000e+02</td>\n",
              "      <td>5.690000e+02</td>\n",
              "      <td>5.690000e+02</td>\n",
              "      <td>5.690000e+02</td>\n",
              "      <td>5.690000e+02</td>\n",
              "      <td>5.690000e+02</td>\n",
              "      <td>5.690000e+02</td>\n",
              "      <td>...</td>\n",
              "      <td>5.690000e+02</td>\n",
              "      <td>5.690000e+02</td>\n",
              "      <td>5.690000e+02</td>\n",
              "      <td>5.690000e+02</td>\n",
              "      <td>5.690000e+02</td>\n",
              "      <td>5.690000e+02</td>\n",
              "      <td>5.690000e+02</td>\n",
              "      <td>5.690000e+02</td>\n",
              "      <td>5.690000e+02</td>\n",
              "      <td>5.690000e+02</td>\n",
              "    </tr>\n",
              "    <tr>\n",
              "      <th>mean</th>\n",
              "      <td>-1.576556e-16</td>\n",
              "      <td>-7.711075e-16</td>\n",
              "      <td>-1.186319e-16</td>\n",
              "      <td>-2.029230e-16</td>\n",
              "      <td>1.717041e-16</td>\n",
              "      <td>1.935573e-16</td>\n",
              "      <td>4.058460e-17</td>\n",
              "      <td>-5.619407e-17</td>\n",
              "      <td>1.638994e-16</td>\n",
              "      <td>-1.492265e-15</td>\n",
              "      <td>...</td>\n",
              "      <td>-9.209583e-17</td>\n",
              "      <td>1.560946e-18</td>\n",
              "      <td>-3.777490e-16</td>\n",
              "      <td>-1.779479e-16</td>\n",
              "      <td>-2.239958e-16</td>\n",
              "      <td>9.365678e-18</td>\n",
              "      <td>9.053488e-17</td>\n",
              "      <td>2.263372e-16</td>\n",
              "      <td>2.684828e-16</td>\n",
              "      <td>2.044840e-16</td>\n",
              "    </tr>\n",
              "    <tr>\n",
              "      <th>std</th>\n",
              "      <td>1.000880e+00</td>\n",
              "      <td>1.000880e+00</td>\n",
              "      <td>1.000880e+00</td>\n",
              "      <td>1.000880e+00</td>\n",
              "      <td>1.000880e+00</td>\n",
              "      <td>1.000880e+00</td>\n",
              "      <td>1.000880e+00</td>\n",
              "      <td>1.000880e+00</td>\n",
              "      <td>1.000880e+00</td>\n",
              "      <td>1.000880e+00</td>\n",
              "      <td>...</td>\n",
              "      <td>1.000880e+00</td>\n",
              "      <td>1.000880e+00</td>\n",
              "      <td>1.000880e+00</td>\n",
              "      <td>1.000880e+00</td>\n",
              "      <td>1.000880e+00</td>\n",
              "      <td>1.000880e+00</td>\n",
              "      <td>1.000880e+00</td>\n",
              "      <td>1.000880e+00</td>\n",
              "      <td>1.000880e+00</td>\n",
              "      <td>1.000880e+00</td>\n",
              "    </tr>\n",
              "    <tr>\n",
              "      <th>min</th>\n",
              "      <td>-2.029648e+00</td>\n",
              "      <td>-2.229249e+00</td>\n",
              "      <td>-1.984504e+00</td>\n",
              "      <td>-1.454443e+00</td>\n",
              "      <td>-3.112085e+00</td>\n",
              "      <td>-1.610136e+00</td>\n",
              "      <td>-1.114873e+00</td>\n",
              "      <td>-1.261820e+00</td>\n",
              "      <td>-2.744117e+00</td>\n",
              "      <td>-1.819865e+00</td>\n",
              "      <td>...</td>\n",
              "      <td>-1.726901e+00</td>\n",
              "      <td>-2.223994e+00</td>\n",
              "      <td>-1.693361e+00</td>\n",
              "      <td>-1.222423e+00</td>\n",
              "      <td>-2.682695e+00</td>\n",
              "      <td>-1.443878e+00</td>\n",
              "      <td>-1.305831e+00</td>\n",
              "      <td>-1.745063e+00</td>\n",
              "      <td>-2.160960e+00</td>\n",
              "      <td>-1.601839e+00</td>\n",
              "    </tr>\n",
              "    <tr>\n",
              "      <th>25%</th>\n",
              "      <td>-6.893853e-01</td>\n",
              "      <td>-7.259631e-01</td>\n",
              "      <td>-6.919555e-01</td>\n",
              "      <td>-6.671955e-01</td>\n",
              "      <td>-7.109628e-01</td>\n",
              "      <td>-7.470860e-01</td>\n",
              "      <td>-7.437479e-01</td>\n",
              "      <td>-7.379438e-01</td>\n",
              "      <td>-7.032397e-01</td>\n",
              "      <td>-7.226392e-01</td>\n",
              "      <td>...</td>\n",
              "      <td>-6.749213e-01</td>\n",
              "      <td>-7.486293e-01</td>\n",
              "      <td>-6.895783e-01</td>\n",
              "      <td>-6.421359e-01</td>\n",
              "      <td>-6.912304e-01</td>\n",
              "      <td>-6.810833e-01</td>\n",
              "      <td>-7.565142e-01</td>\n",
              "      <td>-7.563999e-01</td>\n",
              "      <td>-6.418637e-01</td>\n",
              "      <td>-6.919118e-01</td>\n",
              "    </tr>\n",
              "    <tr>\n",
              "      <th>50%</th>\n",
              "      <td>-2.150816e-01</td>\n",
              "      <td>-1.046362e-01</td>\n",
              "      <td>-2.359800e-01</td>\n",
              "      <td>-2.951869e-01</td>\n",
              "      <td>-3.489108e-02</td>\n",
              "      <td>-2.219405e-01</td>\n",
              "      <td>-3.422399e-01</td>\n",
              "      <td>-3.977212e-01</td>\n",
              "      <td>-7.162650e-02</td>\n",
              "      <td>-1.782793e-01</td>\n",
              "      <td>...</td>\n",
              "      <td>-2.690395e-01</td>\n",
              "      <td>-4.351564e-02</td>\n",
              "      <td>-2.859802e-01</td>\n",
              "      <td>-3.411812e-01</td>\n",
              "      <td>-4.684277e-02</td>\n",
              "      <td>-2.695009e-01</td>\n",
              "      <td>-2.182321e-01</td>\n",
              "      <td>-2.234689e-01</td>\n",
              "      <td>-1.274095e-01</td>\n",
              "      <td>-2.164441e-01</td>\n",
              "    </tr>\n",
              "    <tr>\n",
              "      <th>75%</th>\n",
              "      <td>4.693926e-01</td>\n",
              "      <td>5.841756e-01</td>\n",
              "      <td>4.996769e-01</td>\n",
              "      <td>3.635073e-01</td>\n",
              "      <td>6.361990e-01</td>\n",
              "      <td>4.938569e-01</td>\n",
              "      <td>5.260619e-01</td>\n",
              "      <td>6.469351e-01</td>\n",
              "      <td>5.307792e-01</td>\n",
              "      <td>4.709834e-01</td>\n",
              "      <td>...</td>\n",
              "      <td>5.220158e-01</td>\n",
              "      <td>6.583411e-01</td>\n",
              "      <td>5.402790e-01</td>\n",
              "      <td>3.575891e-01</td>\n",
              "      <td>5.975448e-01</td>\n",
              "      <td>5.396688e-01</td>\n",
              "      <td>5.311411e-01</td>\n",
              "      <td>7.125100e-01</td>\n",
              "      <td>4.501382e-01</td>\n",
              "      <td>4.507624e-01</td>\n",
              "    </tr>\n",
              "    <tr>\n",
              "      <th>max</th>\n",
              "      <td>3.971288e+00</td>\n",
              "      <td>4.651889e+00</td>\n",
              "      <td>3.976130e+00</td>\n",
              "      <td>5.250529e+00</td>\n",
              "      <td>4.770911e+00</td>\n",
              "      <td>4.568425e+00</td>\n",
              "      <td>4.243589e+00</td>\n",
              "      <td>3.927930e+00</td>\n",
              "      <td>4.484751e+00</td>\n",
              "      <td>4.910919e+00</td>\n",
              "      <td>...</td>\n",
              "      <td>4.094189e+00</td>\n",
              "      <td>3.885905e+00</td>\n",
              "      <td>4.287337e+00</td>\n",
              "      <td>5.930172e+00</td>\n",
              "      <td>3.955374e+00</td>\n",
              "      <td>5.112877e+00</td>\n",
              "      <td>4.700669e+00</td>\n",
              "      <td>2.685877e+00</td>\n",
              "      <td>6.046041e+00</td>\n",
              "      <td>6.846856e+00</td>\n",
              "    </tr>\n",
              "  </tbody>\n",
              "</table>\n",
              "<p>8 rows × 30 columns</p>\n",
              "</div>\n",
              "      <button class=\"colab-df-convert\" onclick=\"convertToInteractive('df-ae9e0f7b-0ac0-41fa-b851-541efb105cf6')\"\n",
              "              title=\"Convert this dataframe to an interactive table.\"\n",
              "              style=\"display:none;\">\n",
              "\n",
              "  <svg xmlns=\"http://www.w3.org/2000/svg\" height=\"24px\"viewBox=\"0 0 24 24\"\n",
              "       width=\"24px\">\n",
              "    <path d=\"M0 0h24v24H0V0z\" fill=\"none\"/>\n",
              "    <path d=\"M18.56 5.44l.94 2.06.94-2.06 2.06-.94-2.06-.94-.94-2.06-.94 2.06-2.06.94zm-11 1L8.5 8.5l.94-2.06 2.06-.94-2.06-.94L8.5 2.5l-.94 2.06-2.06.94zm10 10l.94 2.06.94-2.06 2.06-.94-2.06-.94-.94-2.06-.94 2.06-2.06.94z\"/><path d=\"M17.41 7.96l-1.37-1.37c-.4-.4-.92-.59-1.43-.59-.52 0-1.04.2-1.43.59L10.3 9.45l-7.72 7.72c-.78.78-.78 2.05 0 2.83L4 21.41c.39.39.9.59 1.41.59.51 0 1.02-.2 1.41-.59l7.78-7.78 2.81-2.81c.8-.78.8-2.07 0-2.86zM5.41 20L4 18.59l7.72-7.72 1.47 1.35L5.41 20z\"/>\n",
              "  </svg>\n",
              "      </button>\n",
              "\n",
              "\n",
              "\n",
              "    <div id=\"df-af3f8448-7155-4895-bf1f-1ce45b15639c\">\n",
              "      <button class=\"colab-df-quickchart\" onclick=\"quickchart('df-af3f8448-7155-4895-bf1f-1ce45b15639c')\"\n",
              "              title=\"Suggest charts.\"\n",
              "              style=\"display:none;\">\n",
              "\n",
              "<svg xmlns=\"http://www.w3.org/2000/svg\" height=\"24px\"viewBox=\"0 0 24 24\"\n",
              "     width=\"24px\">\n",
              "    <g>\n",
              "        <path d=\"M19 3H5c-1.1 0-2 .9-2 2v14c0 1.1.9 2 2 2h14c1.1 0 2-.9 2-2V5c0-1.1-.9-2-2-2zM9 17H7v-7h2v7zm4 0h-2V7h2v10zm4 0h-2v-4h2v4z\"/>\n",
              "    </g>\n",
              "</svg>\n",
              "      </button>\n",
              "    </div>\n",
              "\n",
              "<style>\n",
              "  .colab-df-quickchart {\n",
              "    background-color: #E8F0FE;\n",
              "    border: none;\n",
              "    border-radius: 50%;\n",
              "    cursor: pointer;\n",
              "    display: none;\n",
              "    fill: #1967D2;\n",
              "    height: 32px;\n",
              "    padding: 0 0 0 0;\n",
              "    width: 32px;\n",
              "  }\n",
              "\n",
              "  .colab-df-quickchart:hover {\n",
              "    background-color: #E2EBFA;\n",
              "    box-shadow: 0px 1px 2px rgba(60, 64, 67, 0.3), 0px 1px 3px 1px rgba(60, 64, 67, 0.15);\n",
              "    fill: #174EA6;\n",
              "  }\n",
              "\n",
              "  [theme=dark] .colab-df-quickchart {\n",
              "    background-color: #3B4455;\n",
              "    fill: #D2E3FC;\n",
              "  }\n",
              "\n",
              "  [theme=dark] .colab-df-quickchart:hover {\n",
              "    background-color: #434B5C;\n",
              "    box-shadow: 0px 1px 3px 1px rgba(0, 0, 0, 0.15);\n",
              "    filter: drop-shadow(0px 1px 2px rgba(0, 0, 0, 0.3));\n",
              "    fill: #FFFFFF;\n",
              "  }\n",
              "</style>\n",
              "\n",
              "    <script>\n",
              "      async function quickchart(key) {\n",
              "        const containerElement = document.querySelector('#' + key);\n",
              "        const charts = await google.colab.kernel.invokeFunction(\n",
              "            'suggestCharts', [key], {});\n",
              "      }\n",
              "    </script>\n",
              "\n",
              "      <script>\n",
              "\n",
              "function displayQuickchartButton(domScope) {\n",
              "  let quickchartButtonEl =\n",
              "    domScope.querySelector('#df-af3f8448-7155-4895-bf1f-1ce45b15639c button.colab-df-quickchart');\n",
              "  quickchartButtonEl.style.display =\n",
              "    google.colab.kernel.accessAllowed ? 'block' : 'none';\n",
              "}\n",
              "\n",
              "        displayQuickchartButton(document);\n",
              "      </script>\n",
              "      <style>\n",
              "    .colab-df-container {\n",
              "      display:flex;\n",
              "      flex-wrap:wrap;\n",
              "      gap: 12px;\n",
              "    }\n",
              "\n",
              "    .colab-df-convert {\n",
              "      background-color: #E8F0FE;\n",
              "      border: none;\n",
              "      border-radius: 50%;\n",
              "      cursor: pointer;\n",
              "      display: none;\n",
              "      fill: #1967D2;\n",
              "      height: 32px;\n",
              "      padding: 0 0 0 0;\n",
              "      width: 32px;\n",
              "    }\n",
              "\n",
              "    .colab-df-convert:hover {\n",
              "      background-color: #E2EBFA;\n",
              "      box-shadow: 0px 1px 2px rgba(60, 64, 67, 0.3), 0px 1px 3px 1px rgba(60, 64, 67, 0.15);\n",
              "      fill: #174EA6;\n",
              "    }\n",
              "\n",
              "    [theme=dark] .colab-df-convert {\n",
              "      background-color: #3B4455;\n",
              "      fill: #D2E3FC;\n",
              "    }\n",
              "\n",
              "    [theme=dark] .colab-df-convert:hover {\n",
              "      background-color: #434B5C;\n",
              "      box-shadow: 0px 1px 3px 1px rgba(0, 0, 0, 0.15);\n",
              "      filter: drop-shadow(0px 1px 2px rgba(0, 0, 0, 0.3));\n",
              "      fill: #FFFFFF;\n",
              "    }\n",
              "  </style>\n",
              "\n",
              "      <script>\n",
              "        const buttonEl =\n",
              "          document.querySelector('#df-ae9e0f7b-0ac0-41fa-b851-541efb105cf6 button.colab-df-convert');\n",
              "        buttonEl.style.display =\n",
              "          google.colab.kernel.accessAllowed ? 'block' : 'none';\n",
              "\n",
              "        async function convertToInteractive(key) {\n",
              "          const element = document.querySelector('#df-ae9e0f7b-0ac0-41fa-b851-541efb105cf6');\n",
              "          const dataTable =\n",
              "            await google.colab.kernel.invokeFunction('convertToInteractive',\n",
              "                                                     [key], {});\n",
              "          if (!dataTable) return;\n",
              "\n",
              "          const docLinkHtml = 'Like what you see? Visit the ' +\n",
              "            '<a target=\"_blank\" href=https://colab.research.google.com/notebooks/data_table.ipynb>data table notebook</a>'\n",
              "            + ' to learn more about interactive tables.';\n",
              "          element.innerHTML = '';\n",
              "          dataTable['output_type'] = 'display_data';\n",
              "          await google.colab.output.renderOutput(dataTable, element);\n",
              "          const docLink = document.createElement('div');\n",
              "          docLink.innerHTML = docLinkHtml;\n",
              "          element.appendChild(docLink);\n",
              "        }\n",
              "      </script>\n",
              "    </div>\n",
              "  </div>\n"
            ]
          },
          "metadata": {},
          "execution_count": 27
        }
      ]
    },
    {
      "cell_type": "code",
      "source": [
        "xScaled_df = pd.DataFrame(xScaled)"
      ],
      "metadata": {
        "colab": {
          "base_uri": "https://localhost:8080/",
          "height": 17
        },
        "id": "xgDdux6XVc4e",
        "outputId": "4e548754-4726-4243-ef09-dc059d44c590"
      },
      "execution_count": null,
      "outputs": [
        {
          "output_type": "display_data",
          "data": {
            "text/plain": [
              "<IPython.core.display.Javascript object>"
            ],
            "application/javascript": [
              "\n",
              "        if (window._pyforest_update_imports_cell) { window._pyforest_update_imports_cell('from sklearn.preprocessing import OneHotEncoder\\nimport pandas as pd\\nfrom sklearn.manifold import TSNE\\nimport lightgbm as lgb\\nimport fastai\\nimport plotly as py\\nfrom sklearn.linear_model import LinearRegression\\nimport pickle\\nimport imutils\\nimport plotly.express as px\\nfrom sklearn.feature_extraction.text import CountVectorizer\\nfrom sklearn.preprocessing import LabelEncoder\\nfrom statsmodels.tsa.arima_model import ARIMA\\nfrom sklearn.preprocessing import MinMaxScaler\\nfrom sklearn.linear_model import ElasticNet\\nfrom PIL import Image\\nfrom sklearn.linear_model import LogisticRegression\\nfrom sklearn.feature_extraction.text import TfidfVectorizer\\nfrom sklearn.ensemble import GradientBoostingRegressor\\nfrom sklearn.decomposition import PCA\\nimport pydot\\nfrom sklearn.linear_model import LassoCV\\nfrom sklearn.linear_model import ElasticNetCV\\nfrom sklearn.cluster import KMeans\\nimport altair as alt\\nimport xgboost as xgb\\nfrom pathlib import Path\\nfrom openpyxl import load_workbook\\nfrom sklearn.model_selection import GridSearchCV\\nfrom sklearn.ensemble import GradientBoostingClassifier\\nfrom sklearn.linear_model import Lasso\\nfrom sklearn.model_selection import KFold'); }\n",
              "    "
            ]
          },
          "metadata": {}
        }
      ]
    },
    {
      "cell_type": "code",
      "source": [
        "xScaled_df.head()"
      ],
      "metadata": {
        "colab": {
          "base_uri": "https://localhost:8080/",
          "height": 299
        },
        "id": "6jNBIVgnYPDE",
        "outputId": "170ef6b5-769f-4c4c-f20f-86baccad1a37"
      },
      "execution_count": null,
      "outputs": [
        {
          "output_type": "execute_result",
          "data": {
            "text/plain": [
              "   radius_mean  texture_mean  perimeter_mean  area_mean  smoothness_mean  \\\n",
              "0    -0.513297     -1.605595       -0.540376  -0.542624         0.458285   \n",
              "1    -1.001801     -0.079038       -0.934566  -0.877375         0.036986   \n",
              "2    -0.876835     -0.572377       -0.867014  -0.801153         0.806996   \n",
              "3    -0.808671     -1.372888       -0.781338  -0.768161         1.426135   \n",
              "4     0.301824     -1.414775        0.234000   0.161860        -1.190618   \n",
              "\n",
              "   compactness_mean  concavity_mean  points_mean  symmetry_mean  \\\n",
              "0         -0.654413       -0.614306    -0.307442       0.538081   \n",
              "1          0.196319       -0.312987    -0.580343       0.402996   \n",
              "2         -0.498443       -0.732448    -0.622129      -0.356400   \n",
              "3          0.175472       -0.532950    -0.024740      -0.148296   \n",
              "4         -0.663320       -0.688883    -0.576473      -0.330843   \n",
              "\n",
              "   dimension_mean  ...  radius_worst  texture_worst  perimeter_worst  \\\n",
              "0       -0.460382  ...     -0.573451      -1.634499        -0.604391   \n",
              "1        0.299453  ...     -0.908925      -0.445740        -0.863230   \n",
              "2        0.085395  ...     -0.799171       0.124213        -0.814083   \n",
              "3       -0.294523  ...     -0.900641      -1.613330        -0.915355   \n",
              "4       -1.043018  ...     -0.014328      -1.619844        -0.082245   \n",
              "\n",
              "   area_worst  smoothness_worst  compactness_worst  concavity_worst  \\\n",
              "0   -0.582718          0.268776          -0.812128        -0.709978   \n",
              "1   -0.801227         -0.485202          -0.017590        -0.386625   \n",
              "2   -0.719308          0.198638          -0.674722        -0.793935   \n",
              "3   -0.785054          0.189871          -0.458434        -0.889933   \n",
              "4   -0.108082         -0.866574          -0.512506        -0.652408   \n",
              "\n",
              "   points_worst  symmetry_worst  dimension_worst  \n",
              "0     -0.315133       -0.119321        -0.899721  \n",
              "1     -0.538203        0.063489        -0.447528  \n",
              "2     -0.613574        0.157320        -0.284606  \n",
              "3     -0.433901       -1.292212        -0.892517  \n",
              "4     -0.499832       -0.669366        -0.902492  \n",
              "\n",
              "[5 rows x 30 columns]"
            ],
            "text/html": [
              "\n",
              "\n",
              "  <div id=\"df-7c78a971-06fd-4c04-b0bd-a3d234d544e4\">\n",
              "    <div class=\"colab-df-container\">\n",
              "      <div>\n",
              "<style scoped>\n",
              "    .dataframe tbody tr th:only-of-type {\n",
              "        vertical-align: middle;\n",
              "    }\n",
              "\n",
              "    .dataframe tbody tr th {\n",
              "        vertical-align: top;\n",
              "    }\n",
              "\n",
              "    .dataframe thead th {\n",
              "        text-align: right;\n",
              "    }\n",
              "</style>\n",
              "<table border=\"1\" class=\"dataframe\">\n",
              "  <thead>\n",
              "    <tr style=\"text-align: right;\">\n",
              "      <th></th>\n",
              "      <th>radius_mean</th>\n",
              "      <th>texture_mean</th>\n",
              "      <th>perimeter_mean</th>\n",
              "      <th>area_mean</th>\n",
              "      <th>smoothness_mean</th>\n",
              "      <th>compactness_mean</th>\n",
              "      <th>concavity_mean</th>\n",
              "      <th>points_mean</th>\n",
              "      <th>symmetry_mean</th>\n",
              "      <th>dimension_mean</th>\n",
              "      <th>...</th>\n",
              "      <th>radius_worst</th>\n",
              "      <th>texture_worst</th>\n",
              "      <th>perimeter_worst</th>\n",
              "      <th>area_worst</th>\n",
              "      <th>smoothness_worst</th>\n",
              "      <th>compactness_worst</th>\n",
              "      <th>concavity_worst</th>\n",
              "      <th>points_worst</th>\n",
              "      <th>symmetry_worst</th>\n",
              "      <th>dimension_worst</th>\n",
              "    </tr>\n",
              "  </thead>\n",
              "  <tbody>\n",
              "    <tr>\n",
              "      <th>0</th>\n",
              "      <td>-0.513297</td>\n",
              "      <td>-1.605595</td>\n",
              "      <td>-0.540376</td>\n",
              "      <td>-0.542624</td>\n",
              "      <td>0.458285</td>\n",
              "      <td>-0.654413</td>\n",
              "      <td>-0.614306</td>\n",
              "      <td>-0.307442</td>\n",
              "      <td>0.538081</td>\n",
              "      <td>-0.460382</td>\n",
              "      <td>...</td>\n",
              "      <td>-0.573451</td>\n",
              "      <td>-1.634499</td>\n",
              "      <td>-0.604391</td>\n",
              "      <td>-0.582718</td>\n",
              "      <td>0.268776</td>\n",
              "      <td>-0.812128</td>\n",
              "      <td>-0.709978</td>\n",
              "      <td>-0.315133</td>\n",
              "      <td>-0.119321</td>\n",
              "      <td>-0.899721</td>\n",
              "    </tr>\n",
              "    <tr>\n",
              "      <th>1</th>\n",
              "      <td>-1.001801</td>\n",
              "      <td>-0.079038</td>\n",
              "      <td>-0.934566</td>\n",
              "      <td>-0.877375</td>\n",
              "      <td>0.036986</td>\n",
              "      <td>0.196319</td>\n",
              "      <td>-0.312987</td>\n",
              "      <td>-0.580343</td>\n",
              "      <td>0.402996</td>\n",
              "      <td>0.299453</td>\n",
              "      <td>...</td>\n",
              "      <td>-0.908925</td>\n",
              "      <td>-0.445740</td>\n",
              "      <td>-0.863230</td>\n",
              "      <td>-0.801227</td>\n",
              "      <td>-0.485202</td>\n",
              "      <td>-0.017590</td>\n",
              "      <td>-0.386625</td>\n",
              "      <td>-0.538203</td>\n",
              "      <td>0.063489</td>\n",
              "      <td>-0.447528</td>\n",
              "    </tr>\n",
              "    <tr>\n",
              "      <th>2</th>\n",
              "      <td>-0.876835</td>\n",
              "      <td>-0.572377</td>\n",
              "      <td>-0.867014</td>\n",
              "      <td>-0.801153</td>\n",
              "      <td>0.806996</td>\n",
              "      <td>-0.498443</td>\n",
              "      <td>-0.732448</td>\n",
              "      <td>-0.622129</td>\n",
              "      <td>-0.356400</td>\n",
              "      <td>0.085395</td>\n",
              "      <td>...</td>\n",
              "      <td>-0.799171</td>\n",
              "      <td>0.124213</td>\n",
              "      <td>-0.814083</td>\n",
              "      <td>-0.719308</td>\n",
              "      <td>0.198638</td>\n",
              "      <td>-0.674722</td>\n",
              "      <td>-0.793935</td>\n",
              "      <td>-0.613574</td>\n",
              "      <td>0.157320</td>\n",
              "      <td>-0.284606</td>\n",
              "    </tr>\n",
              "    <tr>\n",
              "      <th>3</th>\n",
              "      <td>-0.808671</td>\n",
              "      <td>-1.372888</td>\n",
              "      <td>-0.781338</td>\n",
              "      <td>-0.768161</td>\n",
              "      <td>1.426135</td>\n",
              "      <td>0.175472</td>\n",
              "      <td>-0.532950</td>\n",
              "      <td>-0.024740</td>\n",
              "      <td>-0.148296</td>\n",
              "      <td>-0.294523</td>\n",
              "      <td>...</td>\n",
              "      <td>-0.900641</td>\n",
              "      <td>-1.613330</td>\n",
              "      <td>-0.915355</td>\n",
              "      <td>-0.785054</td>\n",
              "      <td>0.189871</td>\n",
              "      <td>-0.458434</td>\n",
              "      <td>-0.889933</td>\n",
              "      <td>-0.433901</td>\n",
              "      <td>-1.292212</td>\n",
              "      <td>-0.892517</td>\n",
              "    </tr>\n",
              "    <tr>\n",
              "      <th>4</th>\n",
              "      <td>0.301824</td>\n",
              "      <td>-1.414775</td>\n",
              "      <td>0.234000</td>\n",
              "      <td>0.161860</td>\n",
              "      <td>-1.190618</td>\n",
              "      <td>-0.663320</td>\n",
              "      <td>-0.688883</td>\n",
              "      <td>-0.576473</td>\n",
              "      <td>-0.330843</td>\n",
              "      <td>-1.043018</td>\n",
              "      <td>...</td>\n",
              "      <td>-0.014328</td>\n",
              "      <td>-1.619844</td>\n",
              "      <td>-0.082245</td>\n",
              "      <td>-0.108082</td>\n",
              "      <td>-0.866574</td>\n",
              "      <td>-0.512506</td>\n",
              "      <td>-0.652408</td>\n",
              "      <td>-0.499832</td>\n",
              "      <td>-0.669366</td>\n",
              "      <td>-0.902492</td>\n",
              "    </tr>\n",
              "  </tbody>\n",
              "</table>\n",
              "<p>5 rows × 30 columns</p>\n",
              "</div>\n",
              "      <button class=\"colab-df-convert\" onclick=\"convertToInteractive('df-7c78a971-06fd-4c04-b0bd-a3d234d544e4')\"\n",
              "              title=\"Convert this dataframe to an interactive table.\"\n",
              "              style=\"display:none;\">\n",
              "\n",
              "  <svg xmlns=\"http://www.w3.org/2000/svg\" height=\"24px\"viewBox=\"0 0 24 24\"\n",
              "       width=\"24px\">\n",
              "    <path d=\"M0 0h24v24H0V0z\" fill=\"none\"/>\n",
              "    <path d=\"M18.56 5.44l.94 2.06.94-2.06 2.06-.94-2.06-.94-.94-2.06-.94 2.06-2.06.94zm-11 1L8.5 8.5l.94-2.06 2.06-.94-2.06-.94L8.5 2.5l-.94 2.06-2.06.94zm10 10l.94 2.06.94-2.06 2.06-.94-2.06-.94-.94-2.06-.94 2.06-2.06.94z\"/><path d=\"M17.41 7.96l-1.37-1.37c-.4-.4-.92-.59-1.43-.59-.52 0-1.04.2-1.43.59L10.3 9.45l-7.72 7.72c-.78.78-.78 2.05 0 2.83L4 21.41c.39.39.9.59 1.41.59.51 0 1.02-.2 1.41-.59l7.78-7.78 2.81-2.81c.8-.78.8-2.07 0-2.86zM5.41 20L4 18.59l7.72-7.72 1.47 1.35L5.41 20z\"/>\n",
              "  </svg>\n",
              "      </button>\n",
              "\n",
              "\n",
              "\n",
              "    <div id=\"df-d4c0694d-451f-4f00-8c04-5b481a51cead\">\n",
              "      <button class=\"colab-df-quickchart\" onclick=\"quickchart('df-d4c0694d-451f-4f00-8c04-5b481a51cead')\"\n",
              "              title=\"Suggest charts.\"\n",
              "              style=\"display:none;\">\n",
              "\n",
              "<svg xmlns=\"http://www.w3.org/2000/svg\" height=\"24px\"viewBox=\"0 0 24 24\"\n",
              "     width=\"24px\">\n",
              "    <g>\n",
              "        <path d=\"M19 3H5c-1.1 0-2 .9-2 2v14c0 1.1.9 2 2 2h14c1.1 0 2-.9 2-2V5c0-1.1-.9-2-2-2zM9 17H7v-7h2v7zm4 0h-2V7h2v10zm4 0h-2v-4h2v4z\"/>\n",
              "    </g>\n",
              "</svg>\n",
              "      </button>\n",
              "    </div>\n",
              "\n",
              "<style>\n",
              "  .colab-df-quickchart {\n",
              "    background-color: #E8F0FE;\n",
              "    border: none;\n",
              "    border-radius: 50%;\n",
              "    cursor: pointer;\n",
              "    display: none;\n",
              "    fill: #1967D2;\n",
              "    height: 32px;\n",
              "    padding: 0 0 0 0;\n",
              "    width: 32px;\n",
              "  }\n",
              "\n",
              "  .colab-df-quickchart:hover {\n",
              "    background-color: #E2EBFA;\n",
              "    box-shadow: 0px 1px 2px rgba(60, 64, 67, 0.3), 0px 1px 3px 1px rgba(60, 64, 67, 0.15);\n",
              "    fill: #174EA6;\n",
              "  }\n",
              "\n",
              "  [theme=dark] .colab-df-quickchart {\n",
              "    background-color: #3B4455;\n",
              "    fill: #D2E3FC;\n",
              "  }\n",
              "\n",
              "  [theme=dark] .colab-df-quickchart:hover {\n",
              "    background-color: #434B5C;\n",
              "    box-shadow: 0px 1px 3px 1px rgba(0, 0, 0, 0.15);\n",
              "    filter: drop-shadow(0px 1px 2px rgba(0, 0, 0, 0.3));\n",
              "    fill: #FFFFFF;\n",
              "  }\n",
              "</style>\n",
              "\n",
              "    <script>\n",
              "      async function quickchart(key) {\n",
              "        const containerElement = document.querySelector('#' + key);\n",
              "        const charts = await google.colab.kernel.invokeFunction(\n",
              "            'suggestCharts', [key], {});\n",
              "      }\n",
              "    </script>\n",
              "\n",
              "      <script>\n",
              "\n",
              "function displayQuickchartButton(domScope) {\n",
              "  let quickchartButtonEl =\n",
              "    domScope.querySelector('#df-d4c0694d-451f-4f00-8c04-5b481a51cead button.colab-df-quickchart');\n",
              "  quickchartButtonEl.style.display =\n",
              "    google.colab.kernel.accessAllowed ? 'block' : 'none';\n",
              "}\n",
              "\n",
              "        displayQuickchartButton(document);\n",
              "      </script>\n",
              "      <style>\n",
              "    .colab-df-container {\n",
              "      display:flex;\n",
              "      flex-wrap:wrap;\n",
              "      gap: 12px;\n",
              "    }\n",
              "\n",
              "    .colab-df-convert {\n",
              "      background-color: #E8F0FE;\n",
              "      border: none;\n",
              "      border-radius: 50%;\n",
              "      cursor: pointer;\n",
              "      display: none;\n",
              "      fill: #1967D2;\n",
              "      height: 32px;\n",
              "      padding: 0 0 0 0;\n",
              "      width: 32px;\n",
              "    }\n",
              "\n",
              "    .colab-df-convert:hover {\n",
              "      background-color: #E2EBFA;\n",
              "      box-shadow: 0px 1px 2px rgba(60, 64, 67, 0.3), 0px 1px 3px 1px rgba(60, 64, 67, 0.15);\n",
              "      fill: #174EA6;\n",
              "    }\n",
              "\n",
              "    [theme=dark] .colab-df-convert {\n",
              "      background-color: #3B4455;\n",
              "      fill: #D2E3FC;\n",
              "    }\n",
              "\n",
              "    [theme=dark] .colab-df-convert:hover {\n",
              "      background-color: #434B5C;\n",
              "      box-shadow: 0px 1px 3px 1px rgba(0, 0, 0, 0.15);\n",
              "      filter: drop-shadow(0px 1px 2px rgba(0, 0, 0, 0.3));\n",
              "      fill: #FFFFFF;\n",
              "    }\n",
              "  </style>\n",
              "\n",
              "      <script>\n",
              "        const buttonEl =\n",
              "          document.querySelector('#df-7c78a971-06fd-4c04-b0bd-a3d234d544e4 button.colab-df-convert');\n",
              "        buttonEl.style.display =\n",
              "          google.colab.kernel.accessAllowed ? 'block' : 'none';\n",
              "\n",
              "        async function convertToInteractive(key) {\n",
              "          const element = document.querySelector('#df-7c78a971-06fd-4c04-b0bd-a3d234d544e4');\n",
              "          const dataTable =\n",
              "            await google.colab.kernel.invokeFunction('convertToInteractive',\n",
              "                                                     [key], {});\n",
              "          if (!dataTable) return;\n",
              "\n",
              "          const docLinkHtml = 'Like what you see? Visit the ' +\n",
              "            '<a target=\"_blank\" href=https://colab.research.google.com/notebooks/data_table.ipynb>data table notebook</a>'\n",
              "            + ' to learn more about interactive tables.';\n",
              "          element.innerHTML = '';\n",
              "          dataTable['output_type'] = 'display_data';\n",
              "          await google.colab.output.renderOutput(dataTable, element);\n",
              "          const docLink = document.createElement('div');\n",
              "          docLink.innerHTML = docLinkHtml;\n",
              "          element.appendChild(docLink);\n",
              "        }\n",
              "      </script>\n",
              "    </div>\n",
              "  </div>\n"
            ]
          },
          "metadata": {},
          "execution_count": 29
        }
      ]
    },
    {
      "cell_type": "code",
      "source": [
        "from sklearn.model_selection import train_test_split"
      ],
      "metadata": {
        "id": "l3K2DmUIYnh_"
      },
      "execution_count": null,
      "outputs": []
    },
    {
      "cell_type": "code",
      "source": [
        "x_train,x_test,y_train,y_test = train_test_split(xScaled_df,y,test_size = 0.3,random_state  =1)"
      ],
      "metadata": {
        "id": "Ym18LxfZZxje"
      },
      "execution_count": null,
      "outputs": []
    },
    {
      "cell_type": "code",
      "source": [
        "from sklearn.neighbors import KNeighborsClassifier"
      ],
      "metadata": {
        "id": "qCo-xpJffJOP"
      },
      "execution_count": null,
      "outputs": []
    },
    {
      "cell_type": "code",
      "source": [
        "knn_model = KNeighborsClassifier(n_neighbors=5,weights='distance')"
      ],
      "metadata": {
        "id": "IXRFHIx8fTfS"
      },
      "execution_count": null,
      "outputs": []
    },
    {
      "cell_type": "code",
      "source": [
        "knn_model.fit(x_train,y_train)"
      ],
      "metadata": {
        "colab": {
          "base_uri": "https://localhost:8080/",
          "height": 74
        },
        "id": "bQyMZ_pUfgce",
        "outputId": "f9e2f6d6-d01a-473d-c35e-2edb4c09fb22"
      },
      "execution_count": null,
      "outputs": [
        {
          "output_type": "execute_result",
          "data": {
            "text/plain": [
              "KNeighborsClassifier(weights='distance')"
            ],
            "text/html": [
              "<style>#sk-container-id-1 {color: black;background-color: white;}#sk-container-id-1 pre{padding: 0;}#sk-container-id-1 div.sk-toggleable {background-color: white;}#sk-container-id-1 label.sk-toggleable__label {cursor: pointer;display: block;width: 100%;margin-bottom: 0;padding: 0.3em;box-sizing: border-box;text-align: center;}#sk-container-id-1 label.sk-toggleable__label-arrow:before {content: \"▸\";float: left;margin-right: 0.25em;color: #696969;}#sk-container-id-1 label.sk-toggleable__label-arrow:hover:before {color: black;}#sk-container-id-1 div.sk-estimator:hover label.sk-toggleable__label-arrow:before {color: black;}#sk-container-id-1 div.sk-toggleable__content {max-height: 0;max-width: 0;overflow: hidden;text-align: left;background-color: #f0f8ff;}#sk-container-id-1 div.sk-toggleable__content pre {margin: 0.2em;color: black;border-radius: 0.25em;background-color: #f0f8ff;}#sk-container-id-1 input.sk-toggleable__control:checked~div.sk-toggleable__content {max-height: 200px;max-width: 100%;overflow: auto;}#sk-container-id-1 input.sk-toggleable__control:checked~label.sk-toggleable__label-arrow:before {content: \"▾\";}#sk-container-id-1 div.sk-estimator input.sk-toggleable__control:checked~label.sk-toggleable__label {background-color: #d4ebff;}#sk-container-id-1 div.sk-label input.sk-toggleable__control:checked~label.sk-toggleable__label {background-color: #d4ebff;}#sk-container-id-1 input.sk-hidden--visually {border: 0;clip: rect(1px 1px 1px 1px);clip: rect(1px, 1px, 1px, 1px);height: 1px;margin: -1px;overflow: hidden;padding: 0;position: absolute;width: 1px;}#sk-container-id-1 div.sk-estimator {font-family: monospace;background-color: #f0f8ff;border: 1px dotted black;border-radius: 0.25em;box-sizing: border-box;margin-bottom: 0.5em;}#sk-container-id-1 div.sk-estimator:hover {background-color: #d4ebff;}#sk-container-id-1 div.sk-parallel-item::after {content: \"\";width: 100%;border-bottom: 1px solid gray;flex-grow: 1;}#sk-container-id-1 div.sk-label:hover label.sk-toggleable__label {background-color: #d4ebff;}#sk-container-id-1 div.sk-serial::before {content: \"\";position: absolute;border-left: 1px solid gray;box-sizing: border-box;top: 0;bottom: 0;left: 50%;z-index: 0;}#sk-container-id-1 div.sk-serial {display: flex;flex-direction: column;align-items: center;background-color: white;padding-right: 0.2em;padding-left: 0.2em;position: relative;}#sk-container-id-1 div.sk-item {position: relative;z-index: 1;}#sk-container-id-1 div.sk-parallel {display: flex;align-items: stretch;justify-content: center;background-color: white;position: relative;}#sk-container-id-1 div.sk-item::before, #sk-container-id-1 div.sk-parallel-item::before {content: \"\";position: absolute;border-left: 1px solid gray;box-sizing: border-box;top: 0;bottom: 0;left: 50%;z-index: -1;}#sk-container-id-1 div.sk-parallel-item {display: flex;flex-direction: column;z-index: 1;position: relative;background-color: white;}#sk-container-id-1 div.sk-parallel-item:first-child::after {align-self: flex-end;width: 50%;}#sk-container-id-1 div.sk-parallel-item:last-child::after {align-self: flex-start;width: 50%;}#sk-container-id-1 div.sk-parallel-item:only-child::after {width: 0;}#sk-container-id-1 div.sk-dashed-wrapped {border: 1px dashed gray;margin: 0 0.4em 0.5em 0.4em;box-sizing: border-box;padding-bottom: 0.4em;background-color: white;}#sk-container-id-1 div.sk-label label {font-family: monospace;font-weight: bold;display: inline-block;line-height: 1.2em;}#sk-container-id-1 div.sk-label-container {text-align: center;}#sk-container-id-1 div.sk-container {/* jupyter's `normalize.less` sets `[hidden] { display: none; }` but bootstrap.min.css set `[hidden] { display: none !important; }` so we also need the `!important` here to be able to override the default hidden behavior on the sphinx rendered scikit-learn.org. See: https://github.com/scikit-learn/scikit-learn/issues/21755 */display: inline-block !important;position: relative;}#sk-container-id-1 div.sk-text-repr-fallback {display: none;}</style><div id=\"sk-container-id-1\" class=\"sk-top-container\"><div class=\"sk-text-repr-fallback\"><pre>KNeighborsClassifier(weights=&#x27;distance&#x27;)</pre><b>In a Jupyter environment, please rerun this cell to show the HTML representation or trust the notebook. <br />On GitHub, the HTML representation is unable to render, please try loading this page with nbviewer.org.</b></div><div class=\"sk-container\" hidden><div class=\"sk-item\"><div class=\"sk-estimator sk-toggleable\"><input class=\"sk-toggleable__control sk-hidden--visually\" id=\"sk-estimator-id-1\" type=\"checkbox\" checked><label for=\"sk-estimator-id-1\" class=\"sk-toggleable__label sk-toggleable__label-arrow\">KNeighborsClassifier</label><div class=\"sk-toggleable__content\"><pre>KNeighborsClassifier(weights=&#x27;distance&#x27;)</pre></div></div></div></div></div>"
            ]
          },
          "metadata": {},
          "execution_count": 39
        }
      ]
    },
    {
      "cell_type": "code",
      "source": [
        "knn_predict = knn_model.predict(x_test)"
      ],
      "metadata": {
        "id": "36leNKjsf11N"
      },
      "execution_count": null,
      "outputs": []
    },
    {
      "cell_type": "code",
      "source": [
        "knn_predict"
      ],
      "metadata": {
        "colab": {
          "base_uri": "https://localhost:8080/"
        },
        "id": "YrJ50vNug-Iv",
        "outputId": "a966cf87-2eff-4a09-db05-a3bfd13a1f4a"
      },
      "execution_count": null,
      "outputs": [
        {
          "output_type": "execute_result",
          "data": {
            "text/plain": [
              "array(['M', 'M', 'M', 'M', 'B', 'B', 'B', 'B', 'B', 'B', 'B', 'B', 'B',\n",
              "       'B', 'B', 'M', 'B', 'B', 'B', 'B', 'B', 'B', 'M', 'M', 'B', 'B',\n",
              "       'B', 'B', 'B', 'B', 'B', 'M', 'B', 'B', 'B', 'B', 'M', 'B', 'M',\n",
              "       'M', 'B', 'B', 'B', 'B', 'B', 'B', 'B', 'B', 'B', 'B', 'M', 'B',\n",
              "       'B', 'B', 'B', 'M', 'M', 'M', 'B', 'B', 'B', 'B', 'B', 'B', 'B',\n",
              "       'M', 'B', 'M', 'B', 'B', 'B', 'B', 'M', 'B', 'M', 'B', 'M', 'M',\n",
              "       'M', 'B', 'B', 'B', 'B', 'B', 'M', 'B', 'M', 'B', 'B', 'M', 'M',\n",
              "       'B', 'M', 'B', 'B', 'B', 'M', 'B', 'M', 'B', 'B', 'M', 'M', 'B',\n",
              "       'B', 'M', 'B', 'M', 'B', 'M', 'B', 'B', 'B', 'M', 'M', 'B', 'B',\n",
              "       'M', 'B', 'B', 'B', 'M', 'B', 'B', 'B', 'M', 'M', 'M', 'B', 'B',\n",
              "       'B', 'B', 'M', 'M', 'B', 'B', 'B', 'M', 'B', 'B', 'M', 'M', 'M',\n",
              "       'B', 'B', 'B', 'B', 'B', 'B', 'B', 'B', 'B', 'B', 'M', 'B', 'M',\n",
              "       'M', 'B', 'B', 'B', 'B', 'M', 'B', 'M', 'M', 'B', 'B', 'M', 'B',\n",
              "       'B', 'M'], dtype=object)"
            ]
          },
          "metadata": {},
          "execution_count": 41
        }
      ]
    },
    {
      "cell_type": "code",
      "source": [
        "knn_model.score(x_test,y_test)*100"
      ],
      "metadata": {
        "colab": {
          "base_uri": "https://localhost:8080/"
        },
        "id": "uAxW9z1MhA0K",
        "outputId": "e2cbbc3b-ea46-4d63-ee44-a8c1c6abcf6b"
      },
      "execution_count": null,
      "outputs": [
        {
          "output_type": "execute_result",
          "data": {
            "text/plain": [
              "96.49122807017544"
            ]
          },
          "metadata": {},
          "execution_count": 44
        }
      ]
    },
    {
      "cell_type": "code",
      "source": [
        "from sklearn.metrics import confusion_matrix\n",
        "cm = confusion_matrix(y_test,knn_predict,labels = ['M','B'])\n",
        "df_cm= pd.DataFrame(cm,index = [i for i in ['M','B']]\n",
        "                    ,columns = [i for i in [\"Predict M\",\"Predict B\"]])\n",
        "sns.heatmap(df_cm,annot = True)\n",
        "plt.show()"
      ],
      "metadata": {
        "colab": {
          "base_uri": "https://localhost:8080/",
          "height": 430
        },
        "id": "5VCHFPOji-g-",
        "outputId": "c1065fc7-eb5a-432a-c596-34a7e8919c87"
      },
      "execution_count": null,
      "outputs": [
        {
          "output_type": "display_data",
          "data": {
            "text/plain": [
              "<IPython.core.display.Javascript object>"
            ],
            "application/javascript": [
              "\n",
              "        if (window._pyforest_update_imports_cell) { window._pyforest_update_imports_cell('from sklearn.model_selection import train_test_split\\nimport tqdm\\nfrom sklearn.preprocessing import OneHotEncoder\\nimport textblob\\nimport pandas as pd\\nimport torch\\nfrom sklearn.manifold import TSNE\\nimport lightgbm as lgb\\nimport fastai\\nimport plotly as py\\nimport re\\nfrom sklearn.linear_model import LinearRegression\\nimport pickle\\nimport imutils\\nimport plotly.express as px\\nimport seaborn as sns\\nfrom sklearn.feature_extraction.text import CountVectorizer\\nfrom sklearn.preprocessing import LabelEncoder\\nfrom statsmodels.tsa.arima_model import ARIMA\\nfrom sklearn.preprocessing import MinMaxScaler\\nfrom sklearn.linear_model import ElasticNet\\nfrom PIL import Image\\nimport sklearn\\nfrom sklearn.linear_model import LogisticRegression\\nfrom sklearn.feature_extraction.text import TfidfVectorizer\\nfrom sklearn.ensemble import GradientBoostingRegressor\\nfrom sklearn.decomposition import PCA\\nimport pydot\\nfrom sklearn.linear_model import LassoCV\\nfrom sklearn.linear_model import ElasticNetCV\\nfrom sklearn.cluster import KMeans\\nimport altair as alt\\nimport xgboost as xgb\\nimport tensorflow as tf\\nfrom pathlib import Path\\nfrom openpyxl import load_workbook\\nfrom sklearn.model_selection import GridSearchCV\\nfrom sklearn.ensemble import GradientBoostingClassifier\\nfrom sklearn.linear_model import Lasso\\nfrom sklearn.model_selection import KFold'); }\n",
              "    "
            ]
          },
          "metadata": {}
        },
        {
          "output_type": "display_data",
          "data": {
            "text/plain": [
              "<IPython.core.display.Javascript object>"
            ],
            "application/javascript": [
              "\n",
              "        if (window._pyforest_update_imports_cell) { window._pyforest_update_imports_cell('from sklearn.model_selection import train_test_split\\nimport tqdm\\nfrom sklearn.preprocessing import OneHotEncoder\\nimport textblob\\nimport pandas as pd\\nimport torch\\nfrom sklearn.manifold import TSNE\\nimport lightgbm as lgb\\nimport fastai\\nimport plotly as py\\nimport re\\nfrom sklearn.linear_model import LinearRegression\\nimport pickle\\nimport imutils\\nimport plotly.express as px\\nimport seaborn as sns\\nfrom sklearn.feature_extraction.text import CountVectorizer\\nfrom sklearn.preprocessing import LabelEncoder\\nfrom statsmodels.tsa.arima_model import ARIMA\\nfrom sklearn.preprocessing import MinMaxScaler\\nfrom sklearn.linear_model import ElasticNet\\nfrom PIL import Image\\nimport sklearn\\nfrom sklearn.linear_model import LogisticRegression\\nfrom sklearn.feature_extraction.text import TfidfVectorizer\\nfrom sklearn.ensemble import GradientBoostingRegressor\\nfrom sklearn.decomposition import PCA\\nimport pydot\\nfrom sklearn.linear_model import LassoCV\\nfrom sklearn.linear_model import ElasticNetCV\\nfrom sklearn.cluster import KMeans\\nimport altair as alt\\nimport xgboost as xgb\\nimport tensorflow as tf\\nfrom pathlib import Path\\nfrom openpyxl import load_workbook\\nfrom sklearn.model_selection import GridSearchCV\\nfrom sklearn.ensemble import GradientBoostingClassifier\\nfrom sklearn.linear_model import Lasso\\nfrom sklearn.model_selection import KFold'); }\n",
              "    "
            ]
          },
          "metadata": {}
        },
        {
          "output_type": "display_data",
          "data": {
            "text/plain": [
              "<Figure size 640x480 with 2 Axes>"
            ],
            "image/png": "[encoded data removed]"
          },
          "metadata": {}
        }
      ]
    },
    {
      "cell_type": "code",
      "source": [
        "from sklearn.model_selection import cross_val_score\n"
      ],
      "metadata": {
        "id": "Q7a7UvbzzvjD"
      },
      "execution_count": null,
      "outputs": []
    },
    {
      "cell_type": "code",
      "source": [],
      "metadata": {
        "id": "0ZWU6J_B0cMd"
      },
      "execution_count": null,
      "outputs": []
    },
    {
      "cell_type": "code",
      "source": [
        "#selecting the best n_neighbors value for a higher prediction\n",
        "score1 = []\n",
        "for i in range (1,100):\n",
        "  knn_2 = KNeighborsClassifier(n_neighbors = i)\n",
        "  score2 = cross_val_score(knn_2 ,xScaled_df,y,cv =10)\n",
        "  score1.append(score2.mean())"
      ],
      "metadata": {
        "id": "DWrF7qF8z2p4"
      },
      "execution_count": null,
      "outputs": []
    },
    {
      "cell_type": "code",
      "source": [
        "score1\n"
      ],
      "metadata": {
        "colab": {
          "base_uri": "https://localhost:8080/"
        },
        "id": "I5p__Tvb0l0-",
        "outputId": "420b02e3-6dca-4d31-a112-501df337eb47"
      },
      "execution_count": null,
      "outputs": [
        {
          "output_type": "execute_result",
          "data": {
            "text/plain": [
              "[0.9490914786967419,\n",
              " 0.9560776942355889,\n",
              " 0.9666040100250626,\n",
              " 0.9648809523809525,\n",
              " 0.9683897243107771,\n",
              " 0.9631265664160402,\n",
              " 0.9683897243107771,\n",
              " 0.9666353383458647,\n",
              " 0.9701441102756894,\n",
              " 0.9648809523809524,\n",
              " 0.9683897243107771,\n",
              " 0.9683897243107771,\n",
              " 0.9666040100250626,\n",
              " 0.9613721804511279,\n",
              " 0.9648809523809524,\n",
              " 0.9595864661654134,\n",
              " 0.9613721804511279,\n",
              " 0.9613721804511279,\n",
              " 0.9596177944862155,\n",
              " 0.9596177944862155,\n",
              " 0.9578634085213034,\n",
              " 0.9561090225563911,\n",
              " 0.9596177944862155,\n",
              " 0.956077694235589,\n",
              " 0.956077694235589,\n",
              " 0.9543233082706767,\n",
              " 0.9578634085213034,\n",
              " 0.9543233082706767,\n",
              " 0.9560776942355889,\n",
              " 0.9560776942355889,\n",
              " 0.9560776942355889,\n",
              " 0.9543233082706767,\n",
              " 0.9560776942355889,\n",
              " 0.9543233082706767,\n",
              " 0.956077694235589,\n",
              " 0.9578320802005011,\n",
              " 0.956077694235589,\n",
              " 0.9543233082706767,\n",
              " 0.956077694235589,\n",
              " 0.956077694235589,\n",
              " 0.956077694235589,\n",
              " 0.956077694235589,\n",
              " 0.956077694235589,\n",
              " 0.9543233082706767,\n",
              " 0.956077694235589,\n",
              " 0.9525689223057643,\n",
              " 0.9543233082706767,\n",
              " 0.9543233082706767,\n",
              " 0.9525689223057643,\n",
              " 0.9560776942355889,\n",
              " 0.9543233082706767,\n",
              " 0.9560776942355889,\n",
              " 0.9525689223057643,\n",
              " 0.9525689223057643,\n",
              " 0.956077694235589,\n",
              " 0.950814536340852,\n",
              " 0.9490601503759398,\n",
              " 0.9473057644110275,\n",
              " 0.950814536340852,\n",
              " 0.9455513784461151,\n",
              " 0.9490601503759398,\n",
              " 0.9473057644110275,\n",
              " 0.9490601503759397,\n",
              " 0.9473057644110275,\n",
              " 0.9473057644110275,\n",
              " 0.9473057644110275,\n",
              " 0.9455513784461151,\n",
              " 0.9473057644110275,\n",
              " 0.9490601503759398,\n",
              " 0.9490601503759398,\n",
              " 0.9473057644110275,\n",
              " 0.9490601503759398,\n",
              " 0.9490601503759398,\n",
              " 0.9473057644110275,\n",
              " 0.9473057644110275,\n",
              " 0.9473057644110275,\n",
              " 0.9473057644110275,\n",
              " 0.9473057644110275,\n",
              " 0.9473057644110275,\n",
              " 0.943765664160401,\n",
              " 0.943765664160401,\n",
              " 0.943765664160401,\n",
              " 0.943765664160401,\n",
              " 0.9402255639097744,\n",
              " 0.9420112781954886,\n",
              " 0.9384711779448622,\n",
              " 0.9384711779448622,\n",
              " 0.9384711779448622,\n",
              " 0.9402255639097744,\n",
              " 0.9384711779448622,\n",
              " 0.9384711779448622,\n",
              " 0.93671679197995,\n",
              " 0.9385025062656641,\n",
              " 0.9349624060150376,\n",
              " 0.93671679197995,\n",
              " 0.9349624060150376,\n",
              " 0.9384711779448622,\n",
              " 0.9349624060150376,\n",
              " 0.9332080200501253]"
            ]
          },
          "metadata": {},
          "execution_count": 56
        }
      ]
    },
    {
      "cell_type": "code",
      "source": [
        "model1 = KNeighborsClassifier(n_neighbors =10,weights = 'distance')\n"
      ],
      "metadata": {
        "id": "khccQ3O_1gT9"
      },
      "execution_count": null,
      "outputs": []
    },
    {
      "cell_type": "code",
      "source": [
        "model1.fit(x_train,y_train)"
      ],
      "metadata": {
        "colab": {
          "base_uri": "https://localhost:8080/",
          "height": 74
        },
        "id": "UHlBS8Pm19Ke",
        "outputId": "3357bd03-b301-4149-a17e-7e1c08bc84af"
      },
      "execution_count": null,
      "outputs": [
        {
          "output_type": "execute_result",
          "data": {
            "text/plain": [
              "KNeighborsClassifier(n_neighbors=10, weights='distance')"
            ],
            "text/html": [
              "<style>#sk-container-id-2 {color: black;background-color: white;}#sk-container-id-2 pre{padding: 0;}#sk-container-id-2 div.sk-toggleable {background-color: white;}#sk-container-id-2 label.sk-toggleable__label {cursor: pointer;display: block;width: 100%;margin-bottom: 0;padding: 0.3em;box-sizing: border-box;text-align: center;}#sk-container-id-2 label.sk-toggleable__label-arrow:before {content: \"▸\";float: left;margin-right: 0.25em;color: #696969;}#sk-container-id-2 label.sk-toggleable__label-arrow:hover:before {color: black;}#sk-container-id-2 div.sk-estimator:hover label.sk-toggleable__label-arrow:before {color: black;}#sk-container-id-2 div.sk-toggleable__content {max-height: 0;max-width: 0;overflow: hidden;text-align: left;background-color: #f0f8ff;}#sk-container-id-2 div.sk-toggleable__content pre {margin: 0.2em;color: black;border-radius: 0.25em;background-color: #f0f8ff;}#sk-container-id-2 input.sk-toggleable__control:checked~div.sk-toggleable__content {max-height: 200px;max-width: 100%;overflow: auto;}#sk-container-id-2 input.sk-toggleable__control:checked~label.sk-toggleable__label-arrow:before {content: \"▾\";}#sk-container-id-2 div.sk-estimator input.sk-toggleable__control:checked~label.sk-toggleable__label {background-color: #d4ebff;}#sk-container-id-2 div.sk-label input.sk-toggleable__control:checked~label.sk-toggleable__label {background-color: #d4ebff;}#sk-container-id-2 input.sk-hidden--visually {border: 0;clip: rect(1px 1px 1px 1px);clip: rect(1px, 1px, 1px, 1px);height: 1px;margin: -1px;overflow: hidden;padding: 0;position: absolute;width: 1px;}#sk-container-id-2 div.sk-estimator {font-family: monospace;background-color: #f0f8ff;border: 1px dotted black;border-radius: 0.25em;box-sizing: border-box;margin-bottom: 0.5em;}#sk-container-id-2 div.sk-estimator:hover {background-color: #d4ebff;}#sk-container-id-2 div.sk-parallel-item::after {content: \"\";width: 100%;border-bottom: 1px solid gray;flex-grow: 1;}#sk-container-id-2 div.sk-label:hover label.sk-toggleable__label {background-color: #d4ebff;}#sk-container-id-2 div.sk-serial::before {content: \"\";position: absolute;border-left: 1px solid gray;box-sizing: border-box;top: 0;bottom: 0;left: 50%;z-index: 0;}#sk-container-id-2 div.sk-serial {display: flex;flex-direction: column;align-items: center;background-color: white;padding-right: 0.2em;padding-left: 0.2em;position: relative;}#sk-container-id-2 div.sk-item {position: relative;z-index: 1;}#sk-container-id-2 div.sk-parallel {display: flex;align-items: stretch;justify-content: center;background-color: white;position: relative;}#sk-container-id-2 div.sk-item::before, #sk-container-id-2 div.sk-parallel-item::before {content: \"\";position: absolute;border-left: 1px solid gray;box-sizing: border-box;top: 0;bottom: 0;left: 50%;z-index: -1;}#sk-container-id-2 div.sk-parallel-item {display: flex;flex-direction: column;z-index: 1;position: relative;background-color: white;}#sk-container-id-2 div.sk-parallel-item:first-child::after {align-self: flex-end;width: 50%;}#sk-container-id-2 div.sk-parallel-item:last-child::after {align-self: flex-start;width: 50%;}#sk-container-id-2 div.sk-parallel-item:only-child::after {width: 0;}#sk-container-id-2 div.sk-dashed-wrapped {border: 1px dashed gray;margin: 0 0.4em 0.5em 0.4em;box-sizing: border-box;padding-bottom: 0.4em;background-color: white;}#sk-container-id-2 div.sk-label label {font-family: monospace;font-weight: bold;display: inline-block;line-height: 1.2em;}#sk-container-id-2 div.sk-label-container {text-align: center;}#sk-container-id-2 div.sk-container {/* jupyter's `normalize.less` sets `[hidden] { display: none; }` but bootstrap.min.css set `[hidden] { display: none !important; }` so we also need the `!important` here to be able to override the default hidden behavior on the sphinx rendered scikit-learn.org. See: https://github.com/scikit-learn/scikit-learn/issues/21755 */display: inline-block !important;position: relative;}#sk-container-id-2 div.sk-text-repr-fallback {display: none;}</style><div id=\"sk-container-id-2\" class=\"sk-top-container\"><div class=\"sk-text-repr-fallback\"><pre>KNeighborsClassifier(n_neighbors=10, weights=&#x27;distance&#x27;)</pre><b>In a Jupyter environment, please rerun this cell to show the HTML representation or trust the notebook. <br />On GitHub, the HTML representation is unable to render, please try loading this page with nbviewer.org.</b></div><div class=\"sk-container\" hidden><div class=\"sk-item\"><div class=\"sk-estimator sk-toggleable\"><input class=\"sk-toggleable__control sk-hidden--visually\" id=\"sk-estimator-id-2\" type=\"checkbox\" checked><label for=\"sk-estimator-id-2\" class=\"sk-toggleable__label sk-toggleable__label-arrow\">KNeighborsClassifier</label><div class=\"sk-toggleable__content\"><pre>KNeighborsClassifier(n_neighbors=10, weights=&#x27;distance&#x27;)</pre></div></div></div></div></div>"
            ]
          },
          "metadata": {},
          "execution_count": 62
        }
      ]
    },
    {
      "cell_type": "code",
      "source": [
        "model_predict = model1.predict(x_test)"
      ],
      "metadata": {
        "id": "zzVevV8p2JhG"
      },
      "execution_count": null,
      "outputs": []
    },
    {
      "cell_type": "code",
      "source": [
        "model1.score(x_test,y_test)"
      ],
      "metadata": {
        "colab": {
          "base_uri": "https://localhost:8080/"
        },
        "id": "cvlRs7M72U96",
        "outputId": "25a7bb96-2151-40dc-e630-adb051f1d244"
      },
      "execution_count": null,
      "outputs": [
        {
          "output_type": "execute_result",
          "data": {
            "text/plain": [
              "0.9707602339181286"
            ]
          },
          "metadata": {},
          "execution_count": 65
        }
      ]
    },
    {
      "cell_type": "code",
      "source": [
        "cm = metrics.confusion_matrix(y_test,model_predict,labels = ['M','B'])\n",
        "df_cm = pd.DataFrame(cm, index = [i for i in ['M','B']],\n",
        "                     columns = [i for i in [\"predict M\",\"Predict B\"]])\n",
        "sns.heatmap(df_cm,annot = True)\n",
        "plt.show()"
      ],
      "metadata": {
        "colab": {
          "base_uri": "https://localhost:8080/",
          "height": 430
        },
        "id": "xk1hOVSD2x1m",
        "outputId": "3f938c16-f504-41b8-ddd0-a75ddd8fc98d"
      },
      "execution_count": null,
      "outputs": [
        {
          "output_type": "display_data",
          "data": {
            "text/plain": [
              "<IPython.core.display.Javascript object>"
            ],
            "application/javascript": [
              "\n",
              "        if (window._pyforest_update_imports_cell) { window._pyforest_update_imports_cell('from sklearn.model_selection import train_test_split\\nimport tqdm\\nfrom sklearn.preprocessing import OneHotEncoder\\nimport textblob\\nimport pandas as pd\\nimport torch\\nfrom sklearn.manifold import TSNE\\nimport lightgbm as lgb\\nimport fastai\\nimport plotly as py\\nimport re\\nfrom sklearn.linear_model import LinearRegression\\nimport pickle\\nimport imutils\\nimport plotly.express as px\\nimport seaborn as sns\\nfrom sklearn.feature_extraction.text import CountVectorizer\\nfrom sklearn.preprocessing import LabelEncoder\\nfrom statsmodels.tsa.arima_model import ARIMA\\nfrom sklearn.preprocessing import MinMaxScaler\\nfrom sklearn.linear_model import ElasticNet\\nfrom PIL import Image\\nimport sklearn\\nfrom sklearn.linear_model import LogisticRegression\\nfrom sklearn.feature_extraction.text import TfidfVectorizer\\nfrom sklearn.ensemble import GradientBoostingRegressor\\nfrom sklearn.decomposition import PCA\\nimport pydot\\nfrom sklearn.linear_model import LassoCV\\nfrom sklearn.linear_model import ElasticNetCV\\nfrom sklearn.cluster import KMeans\\nimport altair as alt\\nimport xgboost as xgb\\nimport tensorflow as tf\\nfrom pathlib import Path\\nfrom openpyxl import load_workbook\\nfrom sklearn import metrics\\nfrom sklearn.model_selection import GridSearchCV\\nfrom sklearn.ensemble import GradientBoostingClassifier\\nfrom sklearn.linear_model import Lasso\\nfrom sklearn.model_selection import KFold'); }\n",
              "    "
            ]
          },
          "metadata": {}
        },
        {
          "output_type": "display_data",
          "data": {
            "text/plain": [
              "<IPython.core.display.Javascript object>"
            ],
            "application/javascript": [
              "\n",
              "        if (window._pyforest_update_imports_cell) { window._pyforest_update_imports_cell('from sklearn.model_selection import train_test_split\\nimport tqdm\\nfrom sklearn.preprocessing import OneHotEncoder\\nimport textblob\\nimport pandas as pd\\nimport torch\\nfrom sklearn.manifold import TSNE\\nimport lightgbm as lgb\\nimport fastai\\nimport plotly as py\\nimport re\\nfrom sklearn.linear_model import LinearRegression\\nimport pickle\\nimport imutils\\nimport plotly.express as px\\nimport seaborn as sns\\nfrom sklearn.feature_extraction.text import CountVectorizer\\nfrom sklearn.preprocessing import LabelEncoder\\nfrom statsmodels.tsa.arima_model import ARIMA\\nfrom sklearn.preprocessing import MinMaxScaler\\nfrom sklearn.linear_model import ElasticNet\\nfrom PIL import Image\\nimport sklearn\\nfrom sklearn.linear_model import LogisticRegression\\nfrom sklearn.feature_extraction.text import TfidfVectorizer\\nfrom sklearn.ensemble import GradientBoostingRegressor\\nfrom sklearn.decomposition import PCA\\nimport pydot\\nfrom sklearn.linear_model import LassoCV\\nfrom sklearn.linear_model import ElasticNetCV\\nfrom sklearn.cluster import KMeans\\nimport altair as alt\\nimport xgboost as xgb\\nimport tensorflow as tf\\nfrom pathlib import Path\\nfrom openpyxl import load_workbook\\nfrom sklearn import metrics\\nfrom sklearn.model_selection import GridSearchCV\\nfrom sklearn.ensemble import GradientBoostingClassifier\\nfrom sklearn.linear_model import Lasso\\nfrom sklearn.model_selection import KFold'); }\n",
              "    "
            ]
          },
          "metadata": {}
        },
        {
          "output_type": "display_data",
          "data": {
            "text/plain": [
              "<IPython.core.display.Javascript object>"
            ],
            "application/javascript": [
              "\n",
              "        if (window._pyforest_update_imports_cell) { window._pyforest_update_imports_cell('from sklearn.model_selection import train_test_split\\nimport tqdm\\nfrom sklearn.preprocessing import OneHotEncoder\\nimport textblob\\nimport pandas as pd\\nimport torch\\nfrom sklearn.manifold import TSNE\\nimport lightgbm as lgb\\nimport fastai\\nimport plotly as py\\nimport re\\nfrom sklearn.linear_model import LinearRegression\\nimport pickle\\nimport imutils\\nimport plotly.express as px\\nimport seaborn as sns\\nfrom sklearn.feature_extraction.text import CountVectorizer\\nfrom sklearn.preprocessing import LabelEncoder\\nfrom statsmodels.tsa.arima_model import ARIMA\\nfrom sklearn.preprocessing import MinMaxScaler\\nfrom sklearn.linear_model import ElasticNet\\nfrom PIL import Image\\nimport sklearn\\nfrom sklearn.linear_model import LogisticRegression\\nfrom sklearn.feature_extraction.text import TfidfVectorizer\\nfrom sklearn.ensemble import GradientBoostingRegressor\\nfrom sklearn.decomposition import PCA\\nimport pydot\\nfrom sklearn.linear_model import LassoCV\\nfrom sklearn.linear_model import ElasticNetCV\\nfrom sklearn.cluster import KMeans\\nimport altair as alt\\nimport xgboost as xgb\\nimport tensorflow as tf\\nfrom pathlib import Path\\nfrom openpyxl import load_workbook\\nfrom sklearn import metrics\\nfrom sklearn.model_selection import GridSearchCV\\nfrom sklearn.ensemble import GradientBoostingClassifier\\nfrom sklearn.linear_model import Lasso\\nfrom sklearn.model_selection import KFold'); }\n",
              "    "
            ]
          },
          "metadata": {}
        },
        {
          "output_type": "display_data",
          "data": {
            "text/plain": [
              "<Figure size 640x480 with 2 Axes>"
            ],
            "image/png": "[encoded data removed]"
          },
          "metadata": {}
        }
      ]
    },
    {
      "cell_type": "code",
      "source": [],
      "metadata": {
        "id": "xBVPtbLh67LG"
      },
      "execution_count": null,
      "outputs": []
    }
  ]
}